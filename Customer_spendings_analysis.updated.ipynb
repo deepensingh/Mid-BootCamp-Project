{
 "cells": [
  {
   "cell_type": "code",
   "execution_count": 1,
   "id": "93346995",
   "metadata": {},
   "outputs": [],
   "source": [
    "import numpy as np\n",
    "import pandas as pd\n",
    "import matplotlib.pyplot as plt\n",
    "import seaborn as sns"
   ]
  },
  {
   "cell_type": "code",
   "execution_count": 2,
   "id": "99b882f2",
   "metadata": {},
   "outputs": [],
   "source": [
    "data= pd.read_csv('SalesForCourse_quizz_table.csv')"
   ]
  },
  {
   "cell_type": "markdown",
   "id": "e00ad7e1",
   "metadata": {},
   "source": [
    "# Basic Statistics "
   ]
  },
  {
   "cell_type": "code",
   "execution_count": 3,
   "id": "7f91915c",
   "metadata": {},
   "outputs": [
    {
     "data": {
      "text/html": [
       "<div>\n",
       "<style scoped>\n",
       "    .dataframe tbody tr th:only-of-type {\n",
       "        vertical-align: middle;\n",
       "    }\n",
       "\n",
       "    .dataframe tbody tr th {\n",
       "        vertical-align: top;\n",
       "    }\n",
       "\n",
       "    .dataframe thead th {\n",
       "        text-align: right;\n",
       "    }\n",
       "</style>\n",
       "<table border=\"1\" class=\"dataframe\">\n",
       "  <thead>\n",
       "    <tr style=\"text-align: right;\">\n",
       "      <th></th>\n",
       "      <th>index</th>\n",
       "      <th>Date</th>\n",
       "      <th>Year</th>\n",
       "      <th>Month</th>\n",
       "      <th>Customer Age</th>\n",
       "      <th>Customer Gender</th>\n",
       "      <th>Country</th>\n",
       "      <th>State</th>\n",
       "      <th>Product Category</th>\n",
       "      <th>Sub Category</th>\n",
       "      <th>Quantity</th>\n",
       "      <th>Unit Cost</th>\n",
       "      <th>Unit Price</th>\n",
       "      <th>Cost</th>\n",
       "      <th>Revenue</th>\n",
       "      <th>Column1</th>\n",
       "    </tr>\n",
       "  </thead>\n",
       "  <tbody>\n",
       "    <tr>\n",
       "      <th>0</th>\n",
       "      <td>0</td>\n",
       "      <td>02/19/16</td>\n",
       "      <td>2016.0</td>\n",
       "      <td>February</td>\n",
       "      <td>29.0</td>\n",
       "      <td>F</td>\n",
       "      <td>United States</td>\n",
       "      <td>Washington</td>\n",
       "      <td>Accessories</td>\n",
       "      <td>Tires and Tubes</td>\n",
       "      <td>1.0</td>\n",
       "      <td>80.00</td>\n",
       "      <td>109.000000</td>\n",
       "      <td>80.0</td>\n",
       "      <td>109.0</td>\n",
       "      <td>NaN</td>\n",
       "    </tr>\n",
       "    <tr>\n",
       "      <th>1</th>\n",
       "      <td>1</td>\n",
       "      <td>02/20/16</td>\n",
       "      <td>2016.0</td>\n",
       "      <td>February</td>\n",
       "      <td>29.0</td>\n",
       "      <td>F</td>\n",
       "      <td>United States</td>\n",
       "      <td>Washington</td>\n",
       "      <td>Clothing</td>\n",
       "      <td>Gloves</td>\n",
       "      <td>2.0</td>\n",
       "      <td>24.50</td>\n",
       "      <td>28.500000</td>\n",
       "      <td>49.0</td>\n",
       "      <td>57.0</td>\n",
       "      <td>NaN</td>\n",
       "    </tr>\n",
       "    <tr>\n",
       "      <th>2</th>\n",
       "      <td>2</td>\n",
       "      <td>02/27/16</td>\n",
       "      <td>2016.0</td>\n",
       "      <td>February</td>\n",
       "      <td>29.0</td>\n",
       "      <td>F</td>\n",
       "      <td>United States</td>\n",
       "      <td>Washington</td>\n",
       "      <td>Accessories</td>\n",
       "      <td>Tires and Tubes</td>\n",
       "      <td>3.0</td>\n",
       "      <td>3.67</td>\n",
       "      <td>5.000000</td>\n",
       "      <td>11.0</td>\n",
       "      <td>15.0</td>\n",
       "      <td>NaN</td>\n",
       "    </tr>\n",
       "    <tr>\n",
       "      <th>3</th>\n",
       "      <td>3</td>\n",
       "      <td>03/12/16</td>\n",
       "      <td>2016.0</td>\n",
       "      <td>March</td>\n",
       "      <td>29.0</td>\n",
       "      <td>F</td>\n",
       "      <td>United States</td>\n",
       "      <td>Washington</td>\n",
       "      <td>Accessories</td>\n",
       "      <td>Tires and Tubes</td>\n",
       "      <td>2.0</td>\n",
       "      <td>87.50</td>\n",
       "      <td>116.500000</td>\n",
       "      <td>175.0</td>\n",
       "      <td>233.0</td>\n",
       "      <td>NaN</td>\n",
       "    </tr>\n",
       "    <tr>\n",
       "      <th>4</th>\n",
       "      <td>4</td>\n",
       "      <td>03/12/16</td>\n",
       "      <td>2016.0</td>\n",
       "      <td>March</td>\n",
       "      <td>29.0</td>\n",
       "      <td>F</td>\n",
       "      <td>United States</td>\n",
       "      <td>Washington</td>\n",
       "      <td>Accessories</td>\n",
       "      <td>Tires and Tubes</td>\n",
       "      <td>3.0</td>\n",
       "      <td>35.00</td>\n",
       "      <td>41.666667</td>\n",
       "      <td>105.0</td>\n",
       "      <td>125.0</td>\n",
       "      <td>NaN</td>\n",
       "    </tr>\n",
       "  </tbody>\n",
       "</table>\n",
       "</div>"
      ],
      "text/plain": [
       "   index      Date    Year     Month  Customer Age Customer Gender  \\\n",
       "0      0  02/19/16  2016.0  February          29.0               F   \n",
       "1      1  02/20/16  2016.0  February          29.0               F   \n",
       "2      2  02/27/16  2016.0  February          29.0               F   \n",
       "3      3  03/12/16  2016.0     March          29.0               F   \n",
       "4      4  03/12/16  2016.0     March          29.0               F   \n",
       "\n",
       "         Country       State Product Category     Sub Category  Quantity  \\\n",
       "0  United States  Washington      Accessories  Tires and Tubes       1.0   \n",
       "1  United States  Washington         Clothing           Gloves       2.0   \n",
       "2  United States  Washington      Accessories  Tires and Tubes       3.0   \n",
       "3  United States  Washington      Accessories  Tires and Tubes       2.0   \n",
       "4  United States  Washington      Accessories  Tires and Tubes       3.0   \n",
       "\n",
       "   Unit Cost  Unit Price   Cost  Revenue  Column1  \n",
       "0      80.00  109.000000   80.0    109.0      NaN  \n",
       "1      24.50   28.500000   49.0     57.0      NaN  \n",
       "2       3.67    5.000000   11.0     15.0      NaN  \n",
       "3      87.50  116.500000  175.0    233.0      NaN  \n",
       "4      35.00   41.666667  105.0    125.0      NaN  "
      ]
     },
     "execution_count": 3,
     "metadata": {},
     "output_type": "execute_result"
    }
   ],
   "source": [
    "data.head()"
   ]
  },
  {
   "cell_type": "code",
   "execution_count": 4,
   "id": "bc292819",
   "metadata": {},
   "outputs": [
    {
     "data": {
      "text/plain": [
       "(34867, 16)"
      ]
     },
     "execution_count": 4,
     "metadata": {},
     "output_type": "execute_result"
    }
   ],
   "source": [
    "data.shape"
   ]
  },
  {
   "cell_type": "code",
   "execution_count": 5,
   "id": "07368cdd",
   "metadata": {},
   "outputs": [
    {
     "data": {
      "text/plain": [
       "index                 int64\n",
       "Date                 object\n",
       "Year                float64\n",
       "Month                object\n",
       "Customer Age        float64\n",
       "Customer Gender      object\n",
       "Country              object\n",
       "State                object\n",
       "Product Category     object\n",
       "Sub Category         object\n",
       "Quantity            float64\n",
       "Unit Cost           float64\n",
       "Unit Price          float64\n",
       "Cost                float64\n",
       "Revenue             float64\n",
       "Column1             float64\n",
       "dtype: object"
      ]
     },
     "execution_count": 5,
     "metadata": {},
     "output_type": "execute_result"
    }
   ],
   "source": [
    "data.dtypes"
   ]
  },
  {
   "cell_type": "code",
   "execution_count": 6,
   "id": "c2c367a9",
   "metadata": {},
   "outputs": [
    {
     "name": "stdout",
     "output_type": "stream",
     "text": [
      "<class 'pandas.core.frame.DataFrame'>\n",
      "RangeIndex: 34867 entries, 0 to 34866\n",
      "Data columns (total 16 columns):\n",
      " #   Column            Non-Null Count  Dtype  \n",
      "---  ------            --------------  -----  \n",
      " 0   index             34867 non-null  int64  \n",
      " 1   Date              34866 non-null  object \n",
      " 2   Year              34866 non-null  float64\n",
      " 3   Month             34866 non-null  object \n",
      " 4   Customer Age      34866 non-null  float64\n",
      " 5   Customer Gender   34866 non-null  object \n",
      " 6   Country           34866 non-null  object \n",
      " 7   State             34866 non-null  object \n",
      " 8   Product Category  34866 non-null  object \n",
      " 9   Sub Category      34866 non-null  object \n",
      " 10  Quantity          34866 non-null  float64\n",
      " 11  Unit Cost         34866 non-null  float64\n",
      " 12  Unit Price        34866 non-null  float64\n",
      " 13  Cost              34866 non-null  float64\n",
      " 14  Revenue           34867 non-null  float64\n",
      " 15  Column1           2574 non-null   float64\n",
      "dtypes: float64(8), int64(1), object(7)\n",
      "memory usage: 4.3+ MB\n"
     ]
    }
   ],
   "source": [
    "data.info()"
   ]
  },
  {
   "cell_type": "code",
   "execution_count": 7,
   "id": "bad3fb64",
   "metadata": {},
   "outputs": [
    {
     "data": {
      "text/html": [
       "<div>\n",
       "<style scoped>\n",
       "    .dataframe tbody tr th:only-of-type {\n",
       "        vertical-align: middle;\n",
       "    }\n",
       "\n",
       "    .dataframe tbody tr th {\n",
       "        vertical-align: top;\n",
       "    }\n",
       "\n",
       "    .dataframe thead th {\n",
       "        text-align: right;\n",
       "    }\n",
       "</style>\n",
       "<table border=\"1\" class=\"dataframe\">\n",
       "  <thead>\n",
       "    <tr style=\"text-align: right;\">\n",
       "      <th></th>\n",
       "      <th>count</th>\n",
       "      <th>mean</th>\n",
       "      <th>std</th>\n",
       "      <th>min</th>\n",
       "      <th>25%</th>\n",
       "      <th>50%</th>\n",
       "      <th>75%</th>\n",
       "      <th>max</th>\n",
       "    </tr>\n",
       "  </thead>\n",
       "  <tbody>\n",
       "    <tr>\n",
       "      <th>index</th>\n",
       "      <td>34867.0</td>\n",
       "      <td>17433.000000</td>\n",
       "      <td>10065.380254</td>\n",
       "      <td>0.000000</td>\n",
       "      <td>8716.500000</td>\n",
       "      <td>17433.0</td>\n",
       "      <td>26149.50</td>\n",
       "      <td>34866.0</td>\n",
       "    </tr>\n",
       "    <tr>\n",
       "      <th>Year</th>\n",
       "      <td>34866.0</td>\n",
       "      <td>2015.569237</td>\n",
       "      <td>0.495190</td>\n",
       "      <td>2015.000000</td>\n",
       "      <td>2015.000000</td>\n",
       "      <td>2016.0</td>\n",
       "      <td>2016.00</td>\n",
       "      <td>2016.0</td>\n",
       "    </tr>\n",
       "    <tr>\n",
       "      <th>Customer Age</th>\n",
       "      <td>34866.0</td>\n",
       "      <td>36.382895</td>\n",
       "      <td>11.112902</td>\n",
       "      <td>17.000000</td>\n",
       "      <td>28.000000</td>\n",
       "      <td>35.0</td>\n",
       "      <td>44.00</td>\n",
       "      <td>87.0</td>\n",
       "    </tr>\n",
       "    <tr>\n",
       "      <th>Quantity</th>\n",
       "      <td>34866.0</td>\n",
       "      <td>2.002524</td>\n",
       "      <td>0.813936</td>\n",
       "      <td>1.000000</td>\n",
       "      <td>1.000000</td>\n",
       "      <td>2.0</td>\n",
       "      <td>3.00</td>\n",
       "      <td>3.0</td>\n",
       "    </tr>\n",
       "    <tr>\n",
       "      <th>Unit Cost</th>\n",
       "      <td>34866.0</td>\n",
       "      <td>349.880567</td>\n",
       "      <td>490.015846</td>\n",
       "      <td>0.670000</td>\n",
       "      <td>45.000000</td>\n",
       "      <td>150.0</td>\n",
       "      <td>455.00</td>\n",
       "      <td>3240.0</td>\n",
       "    </tr>\n",
       "    <tr>\n",
       "      <th>Unit Price</th>\n",
       "      <td>34866.0</td>\n",
       "      <td>389.232485</td>\n",
       "      <td>525.319091</td>\n",
       "      <td>0.666667</td>\n",
       "      <td>53.666667</td>\n",
       "      <td>179.0</td>\n",
       "      <td>521.00</td>\n",
       "      <td>5082.0</td>\n",
       "    </tr>\n",
       "    <tr>\n",
       "      <th>Cost</th>\n",
       "      <td>34866.0</td>\n",
       "      <td>576.004532</td>\n",
       "      <td>690.500395</td>\n",
       "      <td>2.000000</td>\n",
       "      <td>85.000000</td>\n",
       "      <td>261.0</td>\n",
       "      <td>769.00</td>\n",
       "      <td>3600.0</td>\n",
       "    </tr>\n",
       "    <tr>\n",
       "      <th>Revenue</th>\n",
       "      <td>34867.0</td>\n",
       "      <td>640.870093</td>\n",
       "      <td>736.640033</td>\n",
       "      <td>2.000000</td>\n",
       "      <td>102.000000</td>\n",
       "      <td>319.0</td>\n",
       "      <td>902.00</td>\n",
       "      <td>5082.0</td>\n",
       "    </tr>\n",
       "    <tr>\n",
       "      <th>Column1</th>\n",
       "      <td>2574.0</td>\n",
       "      <td>688.054913</td>\n",
       "      <td>774.200897</td>\n",
       "      <td>2.000000</td>\n",
       "      <td>104.250000</td>\n",
       "      <td>390.5</td>\n",
       "      <td>975.75</td>\n",
       "      <td>3681.0</td>\n",
       "    </tr>\n",
       "  </tbody>\n",
       "</table>\n",
       "</div>"
      ],
      "text/plain": [
       "                count          mean           std          min          25%  \\\n",
       "index         34867.0  17433.000000  10065.380254     0.000000  8716.500000   \n",
       "Year          34866.0   2015.569237      0.495190  2015.000000  2015.000000   \n",
       "Customer Age  34866.0     36.382895     11.112902    17.000000    28.000000   \n",
       "Quantity      34866.0      2.002524      0.813936     1.000000     1.000000   \n",
       "Unit Cost     34866.0    349.880567    490.015846     0.670000    45.000000   \n",
       "Unit Price    34866.0    389.232485    525.319091     0.666667    53.666667   \n",
       "Cost          34866.0    576.004532    690.500395     2.000000    85.000000   \n",
       "Revenue       34867.0    640.870093    736.640033     2.000000   102.000000   \n",
       "Column1        2574.0    688.054913    774.200897     2.000000   104.250000   \n",
       "\n",
       "                  50%       75%      max  \n",
       "index         17433.0  26149.50  34866.0  \n",
       "Year           2016.0   2016.00   2016.0  \n",
       "Customer Age     35.0     44.00     87.0  \n",
       "Quantity          2.0      3.00      3.0  \n",
       "Unit Cost       150.0    455.00   3240.0  \n",
       "Unit Price      179.0    521.00   5082.0  \n",
       "Cost            261.0    769.00   3600.0  \n",
       "Revenue         319.0    902.00   5082.0  \n",
       "Column1         390.5    975.75   3681.0  "
      ]
     },
     "execution_count": 7,
     "metadata": {},
     "output_type": "execute_result"
    }
   ],
   "source": [
    "data.describe().T"
   ]
  },
  {
   "cell_type": "markdown",
   "id": "2e524756",
   "metadata": {},
   "source": [
    "# Rename columns and Check for Nan values"
   ]
  },
  {
   "cell_type": "code",
   "execution_count": 8,
   "id": "909088f7",
   "metadata": {},
   "outputs": [
    {
     "name": "stdout",
     "output_type": "stream",
     "text": [
      "Index(['index', 'date', 'year', 'month', 'customer_age', 'customer_gender',\n",
      "       'country', 'state', 'product_category', 'sub_category', 'quantity',\n",
      "       'unit_cost', 'unit_price', 'cost', 'revenue', 'column1'],\n",
      "      dtype='object')\n"
     ]
    }
   ],
   "source": [
    "cols = []\n",
    "for i in range(len(data.columns)):\n",
    "    cols.append(data.columns[i].lower().replace(' ', '_'))\n",
    "data.columns = cols\n",
    "\n",
    "print(data.columns)"
   ]
  },
  {
   "cell_type": "code",
   "execution_count": 9,
   "id": "670e9e49",
   "metadata": {},
   "outputs": [
    {
     "data": {
      "text/plain": [
       "index                   0\n",
       "date                    1\n",
       "year                    1\n",
       "month                   1\n",
       "customer_age            1\n",
       "customer_gender         1\n",
       "country                 1\n",
       "state                   1\n",
       "product_category        1\n",
       "sub_category            1\n",
       "quantity                1\n",
       "unit_cost               1\n",
       "unit_price              1\n",
       "cost                    1\n",
       "revenue                 0\n",
       "column1             32293\n",
       "dtype: int64"
      ]
     },
     "execution_count": 9,
     "metadata": {},
     "output_type": "execute_result"
    }
   ],
   "source": [
    "data.isna().sum()"
   ]
  },
  {
   "cell_type": "code",
   "execution_count": 10,
   "id": "18665876",
   "metadata": {},
   "outputs": [
    {
     "data": {
      "text/plain": [
       "index                0.00\n",
       "date                 0.00\n",
       "year                 0.00\n",
       "month                0.00\n",
       "customer_age         0.00\n",
       "customer_gender      0.00\n",
       "country              0.00\n",
       "state                0.00\n",
       "product_category     0.00\n",
       "sub_category         0.00\n",
       "quantity             0.00\n",
       "unit_cost            0.00\n",
       "unit_price           0.00\n",
       "cost                 0.00\n",
       "revenue              0.00\n",
       "column1             92.62\n",
       "dtype: float64"
      ]
     },
     "execution_count": 10,
     "metadata": {},
     "output_type": "execute_result"
    }
   ],
   "source": [
    "round(data.isna().sum()/len(data),4)*100"
   ]
  },
  {
   "cell_type": "code",
   "execution_count": 11,
   "id": "f50783c9",
   "metadata": {},
   "outputs": [],
   "source": [
    "data = data[data['customer_age'].isna()==False]"
   ]
  },
  {
   "cell_type": "code",
   "execution_count": 12,
   "id": "9a194398",
   "metadata": {},
   "outputs": [
    {
     "data": {
      "text/plain": [
       "index                   0\n",
       "date                    0\n",
       "year                    0\n",
       "month                   0\n",
       "customer_age            0\n",
       "customer_gender         0\n",
       "country                 0\n",
       "state                   0\n",
       "product_category        0\n",
       "sub_category            0\n",
       "quantity                0\n",
       "unit_cost               0\n",
       "unit_price              0\n",
       "cost                    0\n",
       "revenue                 0\n",
       "column1             32292\n",
       "dtype: int64"
      ]
     },
     "execution_count": 12,
     "metadata": {},
     "output_type": "execute_result"
    }
   ],
   "source": [
    "data.isna().sum()"
   ]
  },
  {
   "cell_type": "code",
   "execution_count": 13,
   "id": "9eb6043b",
   "metadata": {},
   "outputs": [],
   "source": [
    "data= data.drop(columns=['index', 'column1'])"
   ]
  },
  {
   "cell_type": "code",
   "execution_count": 14,
   "id": "5c01b6ff",
   "metadata": {},
   "outputs": [
    {
     "data": {
      "text/html": [
       "<div>\n",
       "<style scoped>\n",
       "    .dataframe tbody tr th:only-of-type {\n",
       "        vertical-align: middle;\n",
       "    }\n",
       "\n",
       "    .dataframe tbody tr th {\n",
       "        vertical-align: top;\n",
       "    }\n",
       "\n",
       "    .dataframe thead th {\n",
       "        text-align: right;\n",
       "    }\n",
       "</style>\n",
       "<table border=\"1\" class=\"dataframe\">\n",
       "  <thead>\n",
       "    <tr style=\"text-align: right;\">\n",
       "      <th></th>\n",
       "      <th>date</th>\n",
       "      <th>year</th>\n",
       "      <th>month</th>\n",
       "      <th>customer_age</th>\n",
       "      <th>customer_gender</th>\n",
       "      <th>country</th>\n",
       "      <th>state</th>\n",
       "      <th>product_category</th>\n",
       "      <th>sub_category</th>\n",
       "      <th>quantity</th>\n",
       "      <th>unit_cost</th>\n",
       "      <th>unit_price</th>\n",
       "      <th>cost</th>\n",
       "      <th>revenue</th>\n",
       "    </tr>\n",
       "  </thead>\n",
       "  <tbody>\n",
       "    <tr>\n",
       "      <th>0</th>\n",
       "      <td>02/19/16</td>\n",
       "      <td>2016.0</td>\n",
       "      <td>February</td>\n",
       "      <td>29.0</td>\n",
       "      <td>F</td>\n",
       "      <td>United States</td>\n",
       "      <td>Washington</td>\n",
       "      <td>Accessories</td>\n",
       "      <td>Tires and Tubes</td>\n",
       "      <td>1.0</td>\n",
       "      <td>80.00</td>\n",
       "      <td>109.000000</td>\n",
       "      <td>80.0</td>\n",
       "      <td>109.0</td>\n",
       "    </tr>\n",
       "    <tr>\n",
       "      <th>1</th>\n",
       "      <td>02/20/16</td>\n",
       "      <td>2016.0</td>\n",
       "      <td>February</td>\n",
       "      <td>29.0</td>\n",
       "      <td>F</td>\n",
       "      <td>United States</td>\n",
       "      <td>Washington</td>\n",
       "      <td>Clothing</td>\n",
       "      <td>Gloves</td>\n",
       "      <td>2.0</td>\n",
       "      <td>24.50</td>\n",
       "      <td>28.500000</td>\n",
       "      <td>49.0</td>\n",
       "      <td>57.0</td>\n",
       "    </tr>\n",
       "    <tr>\n",
       "      <th>2</th>\n",
       "      <td>02/27/16</td>\n",
       "      <td>2016.0</td>\n",
       "      <td>February</td>\n",
       "      <td>29.0</td>\n",
       "      <td>F</td>\n",
       "      <td>United States</td>\n",
       "      <td>Washington</td>\n",
       "      <td>Accessories</td>\n",
       "      <td>Tires and Tubes</td>\n",
       "      <td>3.0</td>\n",
       "      <td>3.67</td>\n",
       "      <td>5.000000</td>\n",
       "      <td>11.0</td>\n",
       "      <td>15.0</td>\n",
       "    </tr>\n",
       "    <tr>\n",
       "      <th>3</th>\n",
       "      <td>03/12/16</td>\n",
       "      <td>2016.0</td>\n",
       "      <td>March</td>\n",
       "      <td>29.0</td>\n",
       "      <td>F</td>\n",
       "      <td>United States</td>\n",
       "      <td>Washington</td>\n",
       "      <td>Accessories</td>\n",
       "      <td>Tires and Tubes</td>\n",
       "      <td>2.0</td>\n",
       "      <td>87.50</td>\n",
       "      <td>116.500000</td>\n",
       "      <td>175.0</td>\n",
       "      <td>233.0</td>\n",
       "    </tr>\n",
       "    <tr>\n",
       "      <th>4</th>\n",
       "      <td>03/12/16</td>\n",
       "      <td>2016.0</td>\n",
       "      <td>March</td>\n",
       "      <td>29.0</td>\n",
       "      <td>F</td>\n",
       "      <td>United States</td>\n",
       "      <td>Washington</td>\n",
       "      <td>Accessories</td>\n",
       "      <td>Tires and Tubes</td>\n",
       "      <td>3.0</td>\n",
       "      <td>35.00</td>\n",
       "      <td>41.666667</td>\n",
       "      <td>105.0</td>\n",
       "      <td>125.0</td>\n",
       "    </tr>\n",
       "    <tr>\n",
       "      <th>...</th>\n",
       "      <td>...</td>\n",
       "      <td>...</td>\n",
       "      <td>...</td>\n",
       "      <td>...</td>\n",
       "      <td>...</td>\n",
       "      <td>...</td>\n",
       "      <td>...</td>\n",
       "      <td>...</td>\n",
       "      <td>...</td>\n",
       "      <td>...</td>\n",
       "      <td>...</td>\n",
       "      <td>...</td>\n",
       "      <td>...</td>\n",
       "      <td>...</td>\n",
       "    </tr>\n",
       "    <tr>\n",
       "      <th>95</th>\n",
       "      <td>09/04/15</td>\n",
       "      <td>2015.0</td>\n",
       "      <td>September</td>\n",
       "      <td>22.0</td>\n",
       "      <td>F</td>\n",
       "      <td>United States</td>\n",
       "      <td>Washington</td>\n",
       "      <td>Clothing</td>\n",
       "      <td>Jerseys</td>\n",
       "      <td>2.0</td>\n",
       "      <td>486.00</td>\n",
       "      <td>535.500000</td>\n",
       "      <td>972.0</td>\n",
       "      <td>1071.0</td>\n",
       "    </tr>\n",
       "    <tr>\n",
       "      <th>96</th>\n",
       "      <td>09/06/15</td>\n",
       "      <td>2015.0</td>\n",
       "      <td>September</td>\n",
       "      <td>22.0</td>\n",
       "      <td>F</td>\n",
       "      <td>United States</td>\n",
       "      <td>Washington</td>\n",
       "      <td>Accessories</td>\n",
       "      <td>Bottles and Cages</td>\n",
       "      <td>2.0</td>\n",
       "      <td>25.00</td>\n",
       "      <td>26.500000</td>\n",
       "      <td>50.0</td>\n",
       "      <td>53.0</td>\n",
       "    </tr>\n",
       "    <tr>\n",
       "      <th>97</th>\n",
       "      <td>10/22/15</td>\n",
       "      <td>2015.0</td>\n",
       "      <td>October</td>\n",
       "      <td>22.0</td>\n",
       "      <td>F</td>\n",
       "      <td>United States</td>\n",
       "      <td>Washington</td>\n",
       "      <td>Accessories</td>\n",
       "      <td>Bottles and Cages</td>\n",
       "      <td>1.0</td>\n",
       "      <td>189.00</td>\n",
       "      <td>179.000000</td>\n",
       "      <td>189.0</td>\n",
       "      <td>179.0</td>\n",
       "    </tr>\n",
       "    <tr>\n",
       "      <th>98</th>\n",
       "      <td>10/22/15</td>\n",
       "      <td>2015.0</td>\n",
       "      <td>October</td>\n",
       "      <td>22.0</td>\n",
       "      <td>F</td>\n",
       "      <td>United States</td>\n",
       "      <td>Washington</td>\n",
       "      <td>Accessories</td>\n",
       "      <td>Bottles and Cages</td>\n",
       "      <td>3.0</td>\n",
       "      <td>6.67</td>\n",
       "      <td>7.000000</td>\n",
       "      <td>20.0</td>\n",
       "      <td>21.0</td>\n",
       "    </tr>\n",
       "    <tr>\n",
       "      <th>99</th>\n",
       "      <td>12/21/15</td>\n",
       "      <td>2015.0</td>\n",
       "      <td>December</td>\n",
       "      <td>22.0</td>\n",
       "      <td>F</td>\n",
       "      <td>United States</td>\n",
       "      <td>Washington</td>\n",
       "      <td>Clothing</td>\n",
       "      <td>Jerseys</td>\n",
       "      <td>1.0</td>\n",
       "      <td>150.00</td>\n",
       "      <td>159.000000</td>\n",
       "      <td>150.0</td>\n",
       "      <td>159.0</td>\n",
       "    </tr>\n",
       "  </tbody>\n",
       "</table>\n",
       "<p>100 rows × 14 columns</p>\n",
       "</div>"
      ],
      "text/plain": [
       "        date    year      month  customer_age customer_gender        country  \\\n",
       "0   02/19/16  2016.0   February          29.0               F  United States   \n",
       "1   02/20/16  2016.0   February          29.0               F  United States   \n",
       "2   02/27/16  2016.0   February          29.0               F  United States   \n",
       "3   03/12/16  2016.0      March          29.0               F  United States   \n",
       "4   03/12/16  2016.0      March          29.0               F  United States   \n",
       "..       ...     ...        ...           ...             ...            ...   \n",
       "95  09/04/15  2015.0  September          22.0               F  United States   \n",
       "96  09/06/15  2015.0  September          22.0               F  United States   \n",
       "97  10/22/15  2015.0    October          22.0               F  United States   \n",
       "98  10/22/15  2015.0    October          22.0               F  United States   \n",
       "99  12/21/15  2015.0   December          22.0               F  United States   \n",
       "\n",
       "         state product_category       sub_category  quantity  unit_cost  \\\n",
       "0   Washington      Accessories    Tires and Tubes       1.0      80.00   \n",
       "1   Washington         Clothing             Gloves       2.0      24.50   \n",
       "2   Washington      Accessories    Tires and Tubes       3.0       3.67   \n",
       "3   Washington      Accessories    Tires and Tubes       2.0      87.50   \n",
       "4   Washington      Accessories    Tires and Tubes       3.0      35.00   \n",
       "..         ...              ...                ...       ...        ...   \n",
       "95  Washington         Clothing            Jerseys       2.0     486.00   \n",
       "96  Washington      Accessories  Bottles and Cages       2.0      25.00   \n",
       "97  Washington      Accessories  Bottles and Cages       1.0     189.00   \n",
       "98  Washington      Accessories  Bottles and Cages       3.0       6.67   \n",
       "99  Washington         Clothing            Jerseys       1.0     150.00   \n",
       "\n",
       "    unit_price   cost  revenue  \n",
       "0   109.000000   80.0    109.0  \n",
       "1    28.500000   49.0     57.0  \n",
       "2     5.000000   11.0     15.0  \n",
       "3   116.500000  175.0    233.0  \n",
       "4    41.666667  105.0    125.0  \n",
       "..         ...    ...      ...  \n",
       "95  535.500000  972.0   1071.0  \n",
       "96   26.500000   50.0     53.0  \n",
       "97  179.000000  189.0    179.0  \n",
       "98    7.000000   20.0     21.0  \n",
       "99  159.000000  150.0    159.0  \n",
       "\n",
       "[100 rows x 14 columns]"
      ]
     },
     "execution_count": 14,
     "metadata": {},
     "output_type": "execute_result"
    }
   ],
   "source": [
    "data.head(100)"
   ]
  },
  {
   "cell_type": "markdown",
   "id": "477e16d6",
   "metadata": {},
   "source": [
    "# Check and deal with unique values "
   ]
  },
  {
   "cell_type": "code",
   "execution_count": 15,
   "id": "c8f39cae",
   "metadata": {},
   "outputs": [
    {
     "data": {
      "text/plain": [
       "California             10332\n",
       "England                 6421\n",
       "Washington              5204\n",
       "Oregon                  2446\n",
       "Saarland                1287\n",
       "Nordrhein-Westfalen     1171\n",
       "Hessen                  1112\n",
       "Seine (Paris)           1092\n",
       "Hamburg                  869\n",
       "Seine Saint Denis        796\n",
       "Nord                     787\n",
       "Bayern                   668\n",
       "Hauts de Seine           509\n",
       "Essonne                  465\n",
       "Yveline                  442\n",
       "Seine et Marne           183\n",
       "Moselle                  181\n",
       "Loiret                   178\n",
       "Val d'Oise               130\n",
       "Garonne (Haute)          100\n",
       "Brandenburg               94\n",
       "Val de Marne              75\n",
       "Charente-Maritime         70\n",
       "Somme                     61\n",
       "Loir et Cher              57\n",
       "Pas de Calais             42\n",
       "Illinois                  14\n",
       "Texas                     14\n",
       "Ohio                      13\n",
       "New York                  10\n",
       "Florida                    7\n",
       "South Carolina             5\n",
       "Utah                       5\n",
       "Kentucky                   4\n",
       "Wyoming                    3\n",
       "Minnesota                  3\n",
       "North Carolina             2\n",
       "Georgia                    2\n",
       "Virginia                   2\n",
       "Mississippi                2\n",
       "Montana                    2\n",
       "Arizona                    2\n",
       "Alabama                    2\n",
       "Missouri                   1\n",
       "Massachusetts              1\n",
       "Name: state, dtype: int64"
      ]
     },
     "execution_count": 15,
     "metadata": {},
     "output_type": "execute_result"
    }
   ],
   "source": [
    "data['state'].value_counts(dropna=False)"
   ]
  },
  {
   "cell_type": "code",
   "execution_count": 16,
   "id": "c9e587e4",
   "metadata": {},
   "outputs": [
    {
     "data": {
      "text/plain": [
       "California             10332\n",
       "England                 6421\n",
       "Washington              5204\n",
       "Oregon                  2446\n",
       "Saarland                1287\n",
       "Nordrhein-Westfalen     1171\n",
       "Hessen                  1112\n",
       "Seine (Paris)           1092\n",
       "Hamburg                  869\n",
       "Seine Saint Denis        796\n",
       "Nord                     787\n",
       "Bayern                   668\n",
       "Hauts de Seine           509\n",
       "Essonne                  465\n",
       "Yveline                  442\n",
       "Other_French_States      305\n",
       "Seine et Marne           183\n",
       "Moselle                  181\n",
       "Loiret                   178\n",
       "Val d'Oise               130\n",
       "Garonne (Haute)          100\n",
       "Brandenburg               94\n",
       "Other_U.S_States          94\n",
       "Name: state, dtype: int64"
      ]
     },
     "execution_count": 16,
     "metadata": {},
     "output_type": "execute_result"
    }
   ],
   "source": [
    "def clean_data(x):\n",
    "    if x in [\"Val de Marne\", \"Charente-Maritime\", \"Somme\",\"Loir et Cher\",\"Pas de Calais\"]:\n",
    "        return 'Other_French_States'\n",
    "    elif x in [\"Illinois\", \"Texas\", \"Ohio\", \"New York\", \"Florida\", \"South Carolina\",\"Utah\", \"Kentucky\",\"Wyoming\", \"Minnesota\", \"North Carolina\", \"Georgia\",\"Virginia\", \"Mississippi\", \"Montana\", \"Arizona\", \"Alabama\", \"Missouri\", \"Massachusetts\"]:\n",
    "        return \"Other_U.S_States\"\n",
    "    else:\n",
    "        return x\n",
    "\n",
    "data['state'] = data['state'].apply(clean_data)\n",
    "data['state'].value_counts()"
   ]
  },
  {
   "cell_type": "code",
   "execution_count": 17,
   "id": "1ae1595c",
   "metadata": {},
   "outputs": [],
   "source": [
    "# Bin the column customer_age to deal with unique values"
   ]
  },
  {
   "cell_type": "code",
   "execution_count": 18,
   "id": "639d35c8",
   "metadata": {},
   "outputs": [
    {
     "data": {
      "text/plain": [
       "31.0    1307\n",
       "28.0    1277\n",
       "34.0    1260\n",
       "29.0    1234\n",
       "30.0    1204\n",
       "        ... \n",
       "87.0       3\n",
       "80.0       3\n",
       "74.0       2\n",
       "76.0       2\n",
       "82.0       2\n",
       "Name: customer_age, Length: 70, dtype: int64"
      ]
     },
     "execution_count": 18,
     "metadata": {},
     "output_type": "execute_result"
    }
   ],
   "source": [
    "data['customer_age'].value_counts()"
   ]
  },
  {
   "cell_type": "code",
   "execution_count": 19,
   "id": "bf68927b",
   "metadata": {},
   "outputs": [
    {
     "name": "stdout",
     "output_type": "stream",
     "text": [
      "Maximum value 87.0\n",
      "Minimum value 17.0\n",
      "Mean value 36.38289451041129\n"
     ]
    }
   ],
   "source": [
    "print('Maximum value',data['customer_age'].max())\n",
    "print('Minimum value',data['customer_age'].min())\n",
    "print('Mean value',data['customer_age'].mean())"
   ]
  },
  {
   "cell_type": "code",
   "execution_count": 20,
   "id": "cc50d90e",
   "metadata": {},
   "outputs": [
    {
     "data": {
      "text/html": [
       "<div>\n",
       "<style scoped>\n",
       "    .dataframe tbody tr th:only-of-type {\n",
       "        vertical-align: middle;\n",
       "    }\n",
       "\n",
       "    .dataframe tbody tr th {\n",
       "        vertical-align: top;\n",
       "    }\n",
       "\n",
       "    .dataframe thead th {\n",
       "        text-align: right;\n",
       "    }\n",
       "</style>\n",
       "<table border=\"1\" class=\"dataframe\">\n",
       "  <thead>\n",
       "    <tr style=\"text-align: right;\">\n",
       "      <th></th>\n",
       "      <th>date</th>\n",
       "      <th>year</th>\n",
       "      <th>month</th>\n",
       "      <th>customer_age</th>\n",
       "      <th>customer_gender</th>\n",
       "      <th>country</th>\n",
       "      <th>state</th>\n",
       "      <th>product_category</th>\n",
       "      <th>sub_category</th>\n",
       "      <th>quantity</th>\n",
       "      <th>unit_cost</th>\n",
       "      <th>unit_price</th>\n",
       "      <th>cost</th>\n",
       "      <th>revenue</th>\n",
       "    </tr>\n",
       "  </thead>\n",
       "  <tbody>\n",
       "    <tr>\n",
       "      <th>0</th>\n",
       "      <td>02/19/16</td>\n",
       "      <td>2016.0</td>\n",
       "      <td>February</td>\n",
       "      <td>27-36</td>\n",
       "      <td>F</td>\n",
       "      <td>United States</td>\n",
       "      <td>Washington</td>\n",
       "      <td>Accessories</td>\n",
       "      <td>Tires and Tubes</td>\n",
       "      <td>1.0</td>\n",
       "      <td>80.00</td>\n",
       "      <td>109.000000</td>\n",
       "      <td>80.0</td>\n",
       "      <td>109.0</td>\n",
       "    </tr>\n",
       "    <tr>\n",
       "      <th>1</th>\n",
       "      <td>02/20/16</td>\n",
       "      <td>2016.0</td>\n",
       "      <td>February</td>\n",
       "      <td>27-36</td>\n",
       "      <td>F</td>\n",
       "      <td>United States</td>\n",
       "      <td>Washington</td>\n",
       "      <td>Clothing</td>\n",
       "      <td>Gloves</td>\n",
       "      <td>2.0</td>\n",
       "      <td>24.50</td>\n",
       "      <td>28.500000</td>\n",
       "      <td>49.0</td>\n",
       "      <td>57.0</td>\n",
       "    </tr>\n",
       "    <tr>\n",
       "      <th>2</th>\n",
       "      <td>02/27/16</td>\n",
       "      <td>2016.0</td>\n",
       "      <td>February</td>\n",
       "      <td>27-36</td>\n",
       "      <td>F</td>\n",
       "      <td>United States</td>\n",
       "      <td>Washington</td>\n",
       "      <td>Accessories</td>\n",
       "      <td>Tires and Tubes</td>\n",
       "      <td>3.0</td>\n",
       "      <td>3.67</td>\n",
       "      <td>5.000000</td>\n",
       "      <td>11.0</td>\n",
       "      <td>15.0</td>\n",
       "    </tr>\n",
       "    <tr>\n",
       "      <th>3</th>\n",
       "      <td>03/12/16</td>\n",
       "      <td>2016.0</td>\n",
       "      <td>March</td>\n",
       "      <td>27-36</td>\n",
       "      <td>F</td>\n",
       "      <td>United States</td>\n",
       "      <td>Washington</td>\n",
       "      <td>Accessories</td>\n",
       "      <td>Tires and Tubes</td>\n",
       "      <td>2.0</td>\n",
       "      <td>87.50</td>\n",
       "      <td>116.500000</td>\n",
       "      <td>175.0</td>\n",
       "      <td>233.0</td>\n",
       "    </tr>\n",
       "    <tr>\n",
       "      <th>4</th>\n",
       "      <td>03/12/16</td>\n",
       "      <td>2016.0</td>\n",
       "      <td>March</td>\n",
       "      <td>27-36</td>\n",
       "      <td>F</td>\n",
       "      <td>United States</td>\n",
       "      <td>Washington</td>\n",
       "      <td>Accessories</td>\n",
       "      <td>Tires and Tubes</td>\n",
       "      <td>3.0</td>\n",
       "      <td>35.00</td>\n",
       "      <td>41.666667</td>\n",
       "      <td>105.0</td>\n",
       "      <td>125.0</td>\n",
       "    </tr>\n",
       "    <tr>\n",
       "      <th>...</th>\n",
       "      <td>...</td>\n",
       "      <td>...</td>\n",
       "      <td>...</td>\n",
       "      <td>...</td>\n",
       "      <td>...</td>\n",
       "      <td>...</td>\n",
       "      <td>...</td>\n",
       "      <td>...</td>\n",
       "      <td>...</td>\n",
       "      <td>...</td>\n",
       "      <td>...</td>\n",
       "      <td>...</td>\n",
       "      <td>...</td>\n",
       "      <td>...</td>\n",
       "    </tr>\n",
       "    <tr>\n",
       "      <th>34861</th>\n",
       "      <td>03/22/15</td>\n",
       "      <td>2015.0</td>\n",
       "      <td>March</td>\n",
       "      <td>37-46</td>\n",
       "      <td>M</td>\n",
       "      <td>France</td>\n",
       "      <td>Other_French_States</td>\n",
       "      <td>Bikes</td>\n",
       "      <td>Mountain Bikes</td>\n",
       "      <td>1.0</td>\n",
       "      <td>2049.00</td>\n",
       "      <td>1487.000000</td>\n",
       "      <td>2049.0</td>\n",
       "      <td>1487.0</td>\n",
       "    </tr>\n",
       "    <tr>\n",
       "      <th>34862</th>\n",
       "      <td>02/07/16</td>\n",
       "      <td>2016.0</td>\n",
       "      <td>February</td>\n",
       "      <td>37-46</td>\n",
       "      <td>M</td>\n",
       "      <td>France</td>\n",
       "      <td>Hauts de Seine</td>\n",
       "      <td>Bikes</td>\n",
       "      <td>Mountain Bikes</td>\n",
       "      <td>2.0</td>\n",
       "      <td>1160.00</td>\n",
       "      <td>985.500000</td>\n",
       "      <td>2320.0</td>\n",
       "      <td>1971.0</td>\n",
       "    </tr>\n",
       "    <tr>\n",
       "      <th>34863</th>\n",
       "      <td>03/13/15</td>\n",
       "      <td>2015.0</td>\n",
       "      <td>March</td>\n",
       "      <td>37-46</td>\n",
       "      <td>M</td>\n",
       "      <td>France</td>\n",
       "      <td>Hauts de Seine</td>\n",
       "      <td>Bikes</td>\n",
       "      <td>Mountain Bikes</td>\n",
       "      <td>1.0</td>\n",
       "      <td>2049.00</td>\n",
       "      <td>1583.000000</td>\n",
       "      <td>2049.0</td>\n",
       "      <td>1583.0</td>\n",
       "    </tr>\n",
       "    <tr>\n",
       "      <th>34864</th>\n",
       "      <td>04/05/15</td>\n",
       "      <td>2015.0</td>\n",
       "      <td>April</td>\n",
       "      <td>37-46</td>\n",
       "      <td>M</td>\n",
       "      <td>France</td>\n",
       "      <td>Hauts de Seine</td>\n",
       "      <td>Bikes</td>\n",
       "      <td>Mountain Bikes</td>\n",
       "      <td>3.0</td>\n",
       "      <td>683.00</td>\n",
       "      <td>560.666667</td>\n",
       "      <td>2049.0</td>\n",
       "      <td>1682.0</td>\n",
       "    </tr>\n",
       "    <tr>\n",
       "      <th>34865</th>\n",
       "      <td>08/30/15</td>\n",
       "      <td>2015.0</td>\n",
       "      <td>August</td>\n",
       "      <td>37-46</td>\n",
       "      <td>M</td>\n",
       "      <td>France</td>\n",
       "      <td>Hauts de Seine</td>\n",
       "      <td>Bikes</td>\n",
       "      <td>Mountain Bikes</td>\n",
       "      <td>1.0</td>\n",
       "      <td>2320.00</td>\n",
       "      <td>1568.000000</td>\n",
       "      <td>2320.0</td>\n",
       "      <td>1568.0</td>\n",
       "    </tr>\n",
       "  </tbody>\n",
       "</table>\n",
       "<p>34866 rows × 14 columns</p>\n",
       "</div>"
      ],
      "text/plain": [
       "           date    year     month customer_age customer_gender        country  \\\n",
       "0      02/19/16  2016.0  February        27-36               F  United States   \n",
       "1      02/20/16  2016.0  February        27-36               F  United States   \n",
       "2      02/27/16  2016.0  February        27-36               F  United States   \n",
       "3      03/12/16  2016.0     March        27-36               F  United States   \n",
       "4      03/12/16  2016.0     March        27-36               F  United States   \n",
       "...         ...     ...       ...          ...             ...            ...   \n",
       "34861  03/22/15  2015.0     March        37-46               M         France   \n",
       "34862  02/07/16  2016.0  February        37-46               M         France   \n",
       "34863  03/13/15  2015.0     March        37-46               M         France   \n",
       "34864  04/05/15  2015.0     April        37-46               M         France   \n",
       "34865  08/30/15  2015.0    August        37-46               M         France   \n",
       "\n",
       "                     state product_category     sub_category  quantity  \\\n",
       "0               Washington      Accessories  Tires and Tubes       1.0   \n",
       "1               Washington         Clothing           Gloves       2.0   \n",
       "2               Washington      Accessories  Tires and Tubes       3.0   \n",
       "3               Washington      Accessories  Tires and Tubes       2.0   \n",
       "4               Washington      Accessories  Tires and Tubes       3.0   \n",
       "...                    ...              ...              ...       ...   \n",
       "34861  Other_French_States            Bikes   Mountain Bikes       1.0   \n",
       "34862       Hauts de Seine            Bikes   Mountain Bikes       2.0   \n",
       "34863       Hauts de Seine            Bikes   Mountain Bikes       1.0   \n",
       "34864       Hauts de Seine            Bikes   Mountain Bikes       3.0   \n",
       "34865       Hauts de Seine            Bikes   Mountain Bikes       1.0   \n",
       "\n",
       "       unit_cost   unit_price    cost  revenue  \n",
       "0          80.00   109.000000    80.0    109.0  \n",
       "1          24.50    28.500000    49.0     57.0  \n",
       "2           3.67     5.000000    11.0     15.0  \n",
       "3          87.50   116.500000   175.0    233.0  \n",
       "4          35.00    41.666667   105.0    125.0  \n",
       "...          ...          ...     ...      ...  \n",
       "34861    2049.00  1487.000000  2049.0   1487.0  \n",
       "34862    1160.00   985.500000  2320.0   1971.0  \n",
       "34863    2049.00  1583.000000  2049.0   1583.0  \n",
       "34864     683.00   560.666667  2049.0   1682.0  \n",
       "34865    2320.00  1568.000000  2320.0   1568.0  \n",
       "\n",
       "[34866 rows x 14 columns]"
      ]
     },
     "execution_count": 20,
     "metadata": {},
     "output_type": "execute_result"
    }
   ],
   "source": [
    "#function to bin into categories\n",
    "\n",
    "def age_bins(x):\n",
    "    if x < 27:\n",
    "        return 'Under 27'\n",
    "    elif x >=27 and x < 37:\n",
    "        return '27-36'\n",
    "    elif x >=37 and x < 47:\n",
    "        return '37-46'\n",
    "    elif x >=47 and x < 57:\n",
    "        return '47-56'\n",
    "    elif x >=57 and x < 67:\n",
    "        return '57-66'\n",
    "    elif x >=67 and x < 77 :\n",
    "        return '67-76'\n",
    "    \n",
    "    else:\n",
    "        return '77 and Over'\n",
    "\n",
    "data['customer_age'] = list(map(age_bins, data['customer_age']))\n",
    "\n",
    "data"
   ]
  },
  {
   "cell_type": "code",
   "execution_count": 21,
   "id": "7ae9993a",
   "metadata": {},
   "outputs": [
    {
     "data": {
      "text/plain": [
       "27-36          11864\n",
       "37-46           9357\n",
       "Under 27        7092\n",
       "47-56           4927\n",
       "57-66           1431\n",
       "67-76            136\n",
       "77 and Over       59\n",
       "Name: customer_age, dtype: int64"
      ]
     },
     "execution_count": 21,
     "metadata": {},
     "output_type": "execute_result"
    }
   ],
   "source": [
    "data['customer_age'].value_counts()"
   ]
  },
  {
   "cell_type": "markdown",
   "id": "c0e885f4",
   "metadata": {},
   "source": [
    "# Change the type of some variables "
   ]
  },
  {
   "cell_type": "code",
   "execution_count": 22,
   "id": "e123efa4",
   "metadata": {},
   "outputs": [
    {
     "data": {
      "text/plain": [
       "date                 object\n",
       "year                float64\n",
       "month                object\n",
       "customer_age         object\n",
       "customer_gender      object\n",
       "country              object\n",
       "state                object\n",
       "product_category     object\n",
       "sub_category         object\n",
       "quantity            float64\n",
       "unit_cost           float64\n",
       "unit_price          float64\n",
       "cost                float64\n",
       "revenue             float64\n",
       "dtype: object"
      ]
     },
     "execution_count": 22,
     "metadata": {},
     "output_type": "execute_result"
    }
   ],
   "source": [
    "data.dtypes"
   ]
  },
  {
   "cell_type": "code",
   "execution_count": 23,
   "id": "3d05914a",
   "metadata": {},
   "outputs": [],
   "source": [
    "data['date']=pd.to_datetime(data['date'], errors='coerce')"
   ]
  },
  {
   "cell_type": "code",
   "execution_count": 24,
   "id": "d0418aba",
   "metadata": {},
   "outputs": [],
   "source": [
    "data['year']= data['year'].astype(float).astype(int)"
   ]
  },
  {
   "cell_type": "code",
   "execution_count": 25,
   "id": "71757d77",
   "metadata": {},
   "outputs": [],
   "source": [
    "data['quantity']= data['quantity'].astype(float).astype(int)"
   ]
  },
  {
   "cell_type": "code",
   "execution_count": 26,
   "id": "48a4f6f7",
   "metadata": {},
   "outputs": [
    {
     "data": {
      "text/plain": [
       "date                datetime64[ns]\n",
       "year                         int64\n",
       "month                       object\n",
       "customer_age                object\n",
       "customer_gender             object\n",
       "country                     object\n",
       "state                       object\n",
       "product_category            object\n",
       "sub_category                object\n",
       "quantity                     int64\n",
       "unit_cost                  float64\n",
       "unit_price                 float64\n",
       "cost                       float64\n",
       "revenue                    float64\n",
       "dtype: object"
      ]
     },
     "execution_count": 26,
     "metadata": {},
     "output_type": "execute_result"
    }
   ],
   "source": [
    "data.dtypes"
   ]
  },
  {
   "cell_type": "code",
   "execution_count": 27,
   "id": "80195f5a",
   "metadata": {},
   "outputs": [],
   "source": [
    "data[\"customer_gender\"] = data[\"customer_gender\"].map({\"F\" : 0, \"M\" : 1})"
   ]
  },
  {
   "cell_type": "code",
   "execution_count": 28,
   "id": "fc2fcbf0",
   "metadata": {},
   "outputs": [
    {
     "data": {
      "text/html": [
       "<div>\n",
       "<style scoped>\n",
       "    .dataframe tbody tr th:only-of-type {\n",
       "        vertical-align: middle;\n",
       "    }\n",
       "\n",
       "    .dataframe tbody tr th {\n",
       "        vertical-align: top;\n",
       "    }\n",
       "\n",
       "    .dataframe thead th {\n",
       "        text-align: right;\n",
       "    }\n",
       "</style>\n",
       "<table border=\"1\" class=\"dataframe\">\n",
       "  <thead>\n",
       "    <tr style=\"text-align: right;\">\n",
       "      <th></th>\n",
       "      <th>date</th>\n",
       "      <th>year</th>\n",
       "      <th>month</th>\n",
       "      <th>customer_age</th>\n",
       "      <th>customer_gender</th>\n",
       "      <th>country</th>\n",
       "      <th>state</th>\n",
       "      <th>product_category</th>\n",
       "      <th>sub_category</th>\n",
       "      <th>quantity</th>\n",
       "      <th>unit_cost</th>\n",
       "      <th>unit_price</th>\n",
       "      <th>cost</th>\n",
       "      <th>revenue</th>\n",
       "    </tr>\n",
       "  </thead>\n",
       "  <tbody>\n",
       "    <tr>\n",
       "      <th>0</th>\n",
       "      <td>2016-02-19</td>\n",
       "      <td>2016</td>\n",
       "      <td>February</td>\n",
       "      <td>27-36</td>\n",
       "      <td>0</td>\n",
       "      <td>United States</td>\n",
       "      <td>Washington</td>\n",
       "      <td>Accessories</td>\n",
       "      <td>Tires and Tubes</td>\n",
       "      <td>1</td>\n",
       "      <td>80.00</td>\n",
       "      <td>109.000000</td>\n",
       "      <td>80.0</td>\n",
       "      <td>109.0</td>\n",
       "    </tr>\n",
       "    <tr>\n",
       "      <th>1</th>\n",
       "      <td>2016-02-20</td>\n",
       "      <td>2016</td>\n",
       "      <td>February</td>\n",
       "      <td>27-36</td>\n",
       "      <td>0</td>\n",
       "      <td>United States</td>\n",
       "      <td>Washington</td>\n",
       "      <td>Clothing</td>\n",
       "      <td>Gloves</td>\n",
       "      <td>2</td>\n",
       "      <td>24.50</td>\n",
       "      <td>28.500000</td>\n",
       "      <td>49.0</td>\n",
       "      <td>57.0</td>\n",
       "    </tr>\n",
       "    <tr>\n",
       "      <th>2</th>\n",
       "      <td>2016-02-27</td>\n",
       "      <td>2016</td>\n",
       "      <td>February</td>\n",
       "      <td>27-36</td>\n",
       "      <td>0</td>\n",
       "      <td>United States</td>\n",
       "      <td>Washington</td>\n",
       "      <td>Accessories</td>\n",
       "      <td>Tires and Tubes</td>\n",
       "      <td>3</td>\n",
       "      <td>3.67</td>\n",
       "      <td>5.000000</td>\n",
       "      <td>11.0</td>\n",
       "      <td>15.0</td>\n",
       "    </tr>\n",
       "    <tr>\n",
       "      <th>3</th>\n",
       "      <td>2016-03-12</td>\n",
       "      <td>2016</td>\n",
       "      <td>March</td>\n",
       "      <td>27-36</td>\n",
       "      <td>0</td>\n",
       "      <td>United States</td>\n",
       "      <td>Washington</td>\n",
       "      <td>Accessories</td>\n",
       "      <td>Tires and Tubes</td>\n",
       "      <td>2</td>\n",
       "      <td>87.50</td>\n",
       "      <td>116.500000</td>\n",
       "      <td>175.0</td>\n",
       "      <td>233.0</td>\n",
       "    </tr>\n",
       "    <tr>\n",
       "      <th>4</th>\n",
       "      <td>2016-03-12</td>\n",
       "      <td>2016</td>\n",
       "      <td>March</td>\n",
       "      <td>27-36</td>\n",
       "      <td>0</td>\n",
       "      <td>United States</td>\n",
       "      <td>Washington</td>\n",
       "      <td>Accessories</td>\n",
       "      <td>Tires and Tubes</td>\n",
       "      <td>3</td>\n",
       "      <td>35.00</td>\n",
       "      <td>41.666667</td>\n",
       "      <td>105.0</td>\n",
       "      <td>125.0</td>\n",
       "    </tr>\n",
       "  </tbody>\n",
       "</table>\n",
       "</div>"
      ],
      "text/plain": [
       "        date  year     month customer_age  customer_gender        country  \\\n",
       "0 2016-02-19  2016  February        27-36                0  United States   \n",
       "1 2016-02-20  2016  February        27-36                0  United States   \n",
       "2 2016-02-27  2016  February        27-36                0  United States   \n",
       "3 2016-03-12  2016     March        27-36                0  United States   \n",
       "4 2016-03-12  2016     March        27-36                0  United States   \n",
       "\n",
       "        state product_category     sub_category  quantity  unit_cost  \\\n",
       "0  Washington      Accessories  Tires and Tubes         1      80.00   \n",
       "1  Washington         Clothing           Gloves         2      24.50   \n",
       "2  Washington      Accessories  Tires and Tubes         3       3.67   \n",
       "3  Washington      Accessories  Tires and Tubes         2      87.50   \n",
       "4  Washington      Accessories  Tires and Tubes         3      35.00   \n",
       "\n",
       "   unit_price   cost  revenue  \n",
       "0  109.000000   80.0    109.0  \n",
       "1   28.500000   49.0     57.0  \n",
       "2    5.000000   11.0     15.0  \n",
       "3  116.500000  175.0    233.0  \n",
       "4   41.666667  105.0    125.0  "
      ]
     },
     "execution_count": 28,
     "metadata": {},
     "output_type": "execute_result"
    }
   ],
   "source": [
    "data.head()"
   ]
  },
  {
   "cell_type": "code",
   "execution_count": 29,
   "id": "2689e803",
   "metadata": {},
   "outputs": [
    {
     "data": {
      "text/plain": [
       "1    17805\n",
       "0    17061\n",
       "Name: customer_gender, dtype: int64"
      ]
     },
     "execution_count": 29,
     "metadata": {},
     "output_type": "execute_result"
    }
   ],
   "source": [
    "data['customer_gender'].value_counts()"
   ]
  },
  {
   "cell_type": "code",
   "execution_count": 30,
   "id": "6f228d74",
   "metadata": {},
   "outputs": [
    {
     "data": {
      "text/plain": [
       "Tires and Tubes      11112\n",
       "Bottles and Cages     5295\n",
       "Helmets               4176\n",
       "Road Bikes            3022\n",
       "Mountain Bikes        2737\n",
       "Jerseys               2000\n",
       "Caps                  1517\n",
       "Touring Bikes         1334\n",
       "Fenders                762\n",
       "Shorts                 566\n",
       "Cleaners               545\n",
       "Gloves                 480\n",
       "Hydration Packs        396\n",
       "Socks                  364\n",
       "Vests                  312\n",
       "Bike Stands            145\n",
       "Bike Racks             103\n",
       "Name: sub_category, dtype: int64"
      ]
     },
     "execution_count": 30,
     "metadata": {},
     "output_type": "execute_result"
    }
   ],
   "source": [
    "data['sub_category'].value_counts()"
   ]
  },
  {
   "cell_type": "code",
   "execution_count": 31,
   "id": "8c8df572",
   "metadata": {},
   "outputs": [],
   "source": [
    "# To check if cost column and revenue column are the results of multiplying unit_cost and quantity,\n",
    "# unit price and quantity, respectivley. \n",
    "\n",
    "\n",
    "data['new_column_cost'] = round(data['unit_cost']* data['quantity'], 1)\n",
    "data['new_column_revenue'] = round(data['unit_price']* data['quantity'], 1)"
   ]
  },
  {
   "cell_type": "code",
   "execution_count": 32,
   "id": "518c905a",
   "metadata": {},
   "outputs": [
    {
     "data": {
      "text/html": [
       "<div>\n",
       "<style scoped>\n",
       "    .dataframe tbody tr th:only-of-type {\n",
       "        vertical-align: middle;\n",
       "    }\n",
       "\n",
       "    .dataframe tbody tr th {\n",
       "        vertical-align: top;\n",
       "    }\n",
       "\n",
       "    .dataframe thead th {\n",
       "        text-align: right;\n",
       "    }\n",
       "</style>\n",
       "<table border=\"1\" class=\"dataframe\">\n",
       "  <thead>\n",
       "    <tr style=\"text-align: right;\">\n",
       "      <th></th>\n",
       "      <th>date</th>\n",
       "      <th>year</th>\n",
       "      <th>month</th>\n",
       "      <th>customer_age</th>\n",
       "      <th>customer_gender</th>\n",
       "      <th>country</th>\n",
       "      <th>state</th>\n",
       "      <th>product_category</th>\n",
       "      <th>sub_category</th>\n",
       "      <th>quantity</th>\n",
       "      <th>unit_cost</th>\n",
       "      <th>unit_price</th>\n",
       "      <th>cost</th>\n",
       "      <th>revenue</th>\n",
       "      <th>new_column_cost</th>\n",
       "      <th>new_column_revenue</th>\n",
       "    </tr>\n",
       "  </thead>\n",
       "  <tbody>\n",
       "    <tr>\n",
       "      <th>0</th>\n",
       "      <td>2016-02-19</td>\n",
       "      <td>2016</td>\n",
       "      <td>February</td>\n",
       "      <td>27-36</td>\n",
       "      <td>0</td>\n",
       "      <td>United States</td>\n",
       "      <td>Washington</td>\n",
       "      <td>Accessories</td>\n",
       "      <td>Tires and Tubes</td>\n",
       "      <td>1</td>\n",
       "      <td>80.00</td>\n",
       "      <td>109.000000</td>\n",
       "      <td>80.0</td>\n",
       "      <td>109.0</td>\n",
       "      <td>80.0</td>\n",
       "      <td>109.0</td>\n",
       "    </tr>\n",
       "    <tr>\n",
       "      <th>1</th>\n",
       "      <td>2016-02-20</td>\n",
       "      <td>2016</td>\n",
       "      <td>February</td>\n",
       "      <td>27-36</td>\n",
       "      <td>0</td>\n",
       "      <td>United States</td>\n",
       "      <td>Washington</td>\n",
       "      <td>Clothing</td>\n",
       "      <td>Gloves</td>\n",
       "      <td>2</td>\n",
       "      <td>24.50</td>\n",
       "      <td>28.500000</td>\n",
       "      <td>49.0</td>\n",
       "      <td>57.0</td>\n",
       "      <td>49.0</td>\n",
       "      <td>57.0</td>\n",
       "    </tr>\n",
       "    <tr>\n",
       "      <th>2</th>\n",
       "      <td>2016-02-27</td>\n",
       "      <td>2016</td>\n",
       "      <td>February</td>\n",
       "      <td>27-36</td>\n",
       "      <td>0</td>\n",
       "      <td>United States</td>\n",
       "      <td>Washington</td>\n",
       "      <td>Accessories</td>\n",
       "      <td>Tires and Tubes</td>\n",
       "      <td>3</td>\n",
       "      <td>3.67</td>\n",
       "      <td>5.000000</td>\n",
       "      <td>11.0</td>\n",
       "      <td>15.0</td>\n",
       "      <td>11.0</td>\n",
       "      <td>15.0</td>\n",
       "    </tr>\n",
       "    <tr>\n",
       "      <th>3</th>\n",
       "      <td>2016-03-12</td>\n",
       "      <td>2016</td>\n",
       "      <td>March</td>\n",
       "      <td>27-36</td>\n",
       "      <td>0</td>\n",
       "      <td>United States</td>\n",
       "      <td>Washington</td>\n",
       "      <td>Accessories</td>\n",
       "      <td>Tires and Tubes</td>\n",
       "      <td>2</td>\n",
       "      <td>87.50</td>\n",
       "      <td>116.500000</td>\n",
       "      <td>175.0</td>\n",
       "      <td>233.0</td>\n",
       "      <td>175.0</td>\n",
       "      <td>233.0</td>\n",
       "    </tr>\n",
       "    <tr>\n",
       "      <th>4</th>\n",
       "      <td>2016-03-12</td>\n",
       "      <td>2016</td>\n",
       "      <td>March</td>\n",
       "      <td>27-36</td>\n",
       "      <td>0</td>\n",
       "      <td>United States</td>\n",
       "      <td>Washington</td>\n",
       "      <td>Accessories</td>\n",
       "      <td>Tires and Tubes</td>\n",
       "      <td>3</td>\n",
       "      <td>35.00</td>\n",
       "      <td>41.666667</td>\n",
       "      <td>105.0</td>\n",
       "      <td>125.0</td>\n",
       "      <td>105.0</td>\n",
       "      <td>125.0</td>\n",
       "    </tr>\n",
       "    <tr>\n",
       "      <th>5</th>\n",
       "      <td>2016-04-08</td>\n",
       "      <td>2016</td>\n",
       "      <td>April</td>\n",
       "      <td>27-36</td>\n",
       "      <td>0</td>\n",
       "      <td>United States</td>\n",
       "      <td>Washington</td>\n",
       "      <td>Accessories</td>\n",
       "      <td>Tires and Tubes</td>\n",
       "      <td>1</td>\n",
       "      <td>66.00</td>\n",
       "      <td>78.000000</td>\n",
       "      <td>66.0</td>\n",
       "      <td>78.0</td>\n",
       "      <td>66.0</td>\n",
       "      <td>78.0</td>\n",
       "    </tr>\n",
       "    <tr>\n",
       "      <th>6</th>\n",
       "      <td>2016-04-17</td>\n",
       "      <td>2016</td>\n",
       "      <td>April</td>\n",
       "      <td>27-36</td>\n",
       "      <td>0</td>\n",
       "      <td>United States</td>\n",
       "      <td>Washington</td>\n",
       "      <td>Accessories</td>\n",
       "      <td>Tires and Tubes</td>\n",
       "      <td>2</td>\n",
       "      <td>52.00</td>\n",
       "      <td>60.000000</td>\n",
       "      <td>104.0</td>\n",
       "      <td>120.0</td>\n",
       "      <td>104.0</td>\n",
       "      <td>120.0</td>\n",
       "    </tr>\n",
       "    <tr>\n",
       "      <th>7</th>\n",
       "      <td>2016-04-17</td>\n",
       "      <td>2016</td>\n",
       "      <td>April</td>\n",
       "      <td>27-36</td>\n",
       "      <td>0</td>\n",
       "      <td>United States</td>\n",
       "      <td>Washington</td>\n",
       "      <td>Accessories</td>\n",
       "      <td>Tires and Tubes</td>\n",
       "      <td>1</td>\n",
       "      <td>60.00</td>\n",
       "      <td>68.000000</td>\n",
       "      <td>60.0</td>\n",
       "      <td>68.0</td>\n",
       "      <td>60.0</td>\n",
       "      <td>68.0</td>\n",
       "    </tr>\n",
       "    <tr>\n",
       "      <th>8</th>\n",
       "      <td>2016-06-22</td>\n",
       "      <td>2016</td>\n",
       "      <td>June</td>\n",
       "      <td>27-36</td>\n",
       "      <td>0</td>\n",
       "      <td>United States</td>\n",
       "      <td>Washington</td>\n",
       "      <td>Accessories</td>\n",
       "      <td>Tires and Tubes</td>\n",
       "      <td>2</td>\n",
       "      <td>8.00</td>\n",
       "      <td>10.000000</td>\n",
       "      <td>16.0</td>\n",
       "      <td>20.0</td>\n",
       "      <td>16.0</td>\n",
       "      <td>20.0</td>\n",
       "    </tr>\n",
       "    <tr>\n",
       "      <th>9</th>\n",
       "      <td>2016-06-22</td>\n",
       "      <td>2016</td>\n",
       "      <td>June</td>\n",
       "      <td>27-36</td>\n",
       "      <td>0</td>\n",
       "      <td>United States</td>\n",
       "      <td>Washington</td>\n",
       "      <td>Accessories</td>\n",
       "      <td>Tires and Tubes</td>\n",
       "      <td>2</td>\n",
       "      <td>2.50</td>\n",
       "      <td>3.000000</td>\n",
       "      <td>5.0</td>\n",
       "      <td>6.0</td>\n",
       "      <td>5.0</td>\n",
       "      <td>6.0</td>\n",
       "    </tr>\n",
       "    <tr>\n",
       "      <th>10</th>\n",
       "      <td>2016-06-24</td>\n",
       "      <td>2016</td>\n",
       "      <td>June</td>\n",
       "      <td>27-36</td>\n",
       "      <td>0</td>\n",
       "      <td>United States</td>\n",
       "      <td>Washington</td>\n",
       "      <td>Accessories</td>\n",
       "      <td>Helmets</td>\n",
       "      <td>2</td>\n",
       "      <td>17.50</td>\n",
       "      <td>21.000000</td>\n",
       "      <td>35.0</td>\n",
       "      <td>42.0</td>\n",
       "      <td>35.0</td>\n",
       "      <td>42.0</td>\n",
       "    </tr>\n",
       "    <tr>\n",
       "      <th>11</th>\n",
       "      <td>2016-07-01</td>\n",
       "      <td>2016</td>\n",
       "      <td>July</td>\n",
       "      <td>27-36</td>\n",
       "      <td>0</td>\n",
       "      <td>United States</td>\n",
       "      <td>Washington</td>\n",
       "      <td>Accessories</td>\n",
       "      <td>Tires and Tubes</td>\n",
       "      <td>3</td>\n",
       "      <td>40.00</td>\n",
       "      <td>48.666667</td>\n",
       "      <td>120.0</td>\n",
       "      <td>146.0</td>\n",
       "      <td>120.0</td>\n",
       "      <td>146.0</td>\n",
       "    </tr>\n",
       "    <tr>\n",
       "      <th>12</th>\n",
       "      <td>2016-07-22</td>\n",
       "      <td>2016</td>\n",
       "      <td>July</td>\n",
       "      <td>27-36</td>\n",
       "      <td>0</td>\n",
       "      <td>United States</td>\n",
       "      <td>Washington</td>\n",
       "      <td>Accessories</td>\n",
       "      <td>Tires and Tubes</td>\n",
       "      <td>2</td>\n",
       "      <td>46.00</td>\n",
       "      <td>60.000000</td>\n",
       "      <td>92.0</td>\n",
       "      <td>120.0</td>\n",
       "      <td>92.0</td>\n",
       "      <td>120.0</td>\n",
       "    </tr>\n",
       "    <tr>\n",
       "      <th>13</th>\n",
       "      <td>2016-07-22</td>\n",
       "      <td>2016</td>\n",
       "      <td>July</td>\n",
       "      <td>27-36</td>\n",
       "      <td>0</td>\n",
       "      <td>United States</td>\n",
       "      <td>Washington</td>\n",
       "      <td>Accessories</td>\n",
       "      <td>Tires and Tubes</td>\n",
       "      <td>1</td>\n",
       "      <td>9.00</td>\n",
       "      <td>10.000000</td>\n",
       "      <td>9.0</td>\n",
       "      <td>10.0</td>\n",
       "      <td>9.0</td>\n",
       "      <td>10.0</td>\n",
       "    </tr>\n",
       "    <tr>\n",
       "      <th>14</th>\n",
       "      <td>2015-08-18</td>\n",
       "      <td>2015</td>\n",
       "      <td>August</td>\n",
       "      <td>27-36</td>\n",
       "      <td>0</td>\n",
       "      <td>United States</td>\n",
       "      <td>Washington</td>\n",
       "      <td>Accessories</td>\n",
       "      <td>Helmets</td>\n",
       "      <td>3</td>\n",
       "      <td>151.67</td>\n",
       "      <td>181.333333</td>\n",
       "      <td>455.0</td>\n",
       "      <td>544.0</td>\n",
       "      <td>455.0</td>\n",
       "      <td>544.0</td>\n",
       "    </tr>\n",
       "    <tr>\n",
       "      <th>15</th>\n",
       "      <td>2015-08-30</td>\n",
       "      <td>2015</td>\n",
       "      <td>August</td>\n",
       "      <td>27-36</td>\n",
       "      <td>0</td>\n",
       "      <td>United States</td>\n",
       "      <td>Washington</td>\n",
       "      <td>Accessories</td>\n",
       "      <td>Tires and Tubes</td>\n",
       "      <td>3</td>\n",
       "      <td>70.00</td>\n",
       "      <td>72.666667</td>\n",
       "      <td>210.0</td>\n",
       "      <td>218.0</td>\n",
       "      <td>210.0</td>\n",
       "      <td>218.0</td>\n",
       "    </tr>\n",
       "    <tr>\n",
       "      <th>16</th>\n",
       "      <td>2015-09-17</td>\n",
       "      <td>2015</td>\n",
       "      <td>September</td>\n",
       "      <td>27-36</td>\n",
       "      <td>0</td>\n",
       "      <td>United States</td>\n",
       "      <td>Washington</td>\n",
       "      <td>Accessories</td>\n",
       "      <td>Tires and Tubes</td>\n",
       "      <td>1</td>\n",
       "      <td>385.00</td>\n",
       "      <td>439.000000</td>\n",
       "      <td>385.0</td>\n",
       "      <td>439.0</td>\n",
       "      <td>385.0</td>\n",
       "      <td>439.0</td>\n",
       "    </tr>\n",
       "    <tr>\n",
       "      <th>17</th>\n",
       "      <td>2015-09-17</td>\n",
       "      <td>2015</td>\n",
       "      <td>September</td>\n",
       "      <td>27-36</td>\n",
       "      <td>0</td>\n",
       "      <td>United States</td>\n",
       "      <td>Washington</td>\n",
       "      <td>Accessories</td>\n",
       "      <td>Tires and Tubes</td>\n",
       "      <td>2</td>\n",
       "      <td>72.50</td>\n",
       "      <td>86.500000</td>\n",
       "      <td>145.0</td>\n",
       "      <td>173.0</td>\n",
       "      <td>145.0</td>\n",
       "      <td>173.0</td>\n",
       "    </tr>\n",
       "    <tr>\n",
       "      <th>18</th>\n",
       "      <td>2015-09-17</td>\n",
       "      <td>2015</td>\n",
       "      <td>September</td>\n",
       "      <td>27-36</td>\n",
       "      <td>0</td>\n",
       "      <td>United States</td>\n",
       "      <td>Washington</td>\n",
       "      <td>Accessories</td>\n",
       "      <td>Helmets</td>\n",
       "      <td>3</td>\n",
       "      <td>210.00</td>\n",
       "      <td>212.666667</td>\n",
       "      <td>630.0</td>\n",
       "      <td>638.0</td>\n",
       "      <td>630.0</td>\n",
       "      <td>638.0</td>\n",
       "    </tr>\n",
       "    <tr>\n",
       "      <th>19</th>\n",
       "      <td>2015-09-24</td>\n",
       "      <td>2015</td>\n",
       "      <td>September</td>\n",
       "      <td>27-36</td>\n",
       "      <td>0</td>\n",
       "      <td>United States</td>\n",
       "      <td>Washington</td>\n",
       "      <td>Accessories</td>\n",
       "      <td>Tires and Tubes</td>\n",
       "      <td>1</td>\n",
       "      <td>64.00</td>\n",
       "      <td>74.000000</td>\n",
       "      <td>64.0</td>\n",
       "      <td>74.0</td>\n",
       "      <td>64.0</td>\n",
       "      <td>74.0</td>\n",
       "    </tr>\n",
       "    <tr>\n",
       "      <th>20</th>\n",
       "      <td>2015-09-24</td>\n",
       "      <td>2015</td>\n",
       "      <td>September</td>\n",
       "      <td>27-36</td>\n",
       "      <td>0</td>\n",
       "      <td>United States</td>\n",
       "      <td>Washington</td>\n",
       "      <td>Accessories</td>\n",
       "      <td>Helmets</td>\n",
       "      <td>3</td>\n",
       "      <td>326.67</td>\n",
       "      <td>359.666667</td>\n",
       "      <td>980.0</td>\n",
       "      <td>1079.0</td>\n",
       "      <td>980.0</td>\n",
       "      <td>1079.0</td>\n",
       "    </tr>\n",
       "    <tr>\n",
       "      <th>21</th>\n",
       "      <td>2015-10-07</td>\n",
       "      <td>2015</td>\n",
       "      <td>October</td>\n",
       "      <td>27-36</td>\n",
       "      <td>0</td>\n",
       "      <td>United States</td>\n",
       "      <td>Washington</td>\n",
       "      <td>Accessories</td>\n",
       "      <td>Tires and Tubes</td>\n",
       "      <td>1</td>\n",
       "      <td>125.00</td>\n",
       "      <td>136.000000</td>\n",
       "      <td>125.0</td>\n",
       "      <td>136.0</td>\n",
       "      <td>125.0</td>\n",
       "      <td>136.0</td>\n",
       "    </tr>\n",
       "    <tr>\n",
       "      <th>22</th>\n",
       "      <td>2015-10-07</td>\n",
       "      <td>2015</td>\n",
       "      <td>October</td>\n",
       "      <td>27-36</td>\n",
       "      <td>0</td>\n",
       "      <td>United States</td>\n",
       "      <td>Washington</td>\n",
       "      <td>Accessories</td>\n",
       "      <td>Helmets</td>\n",
       "      <td>2</td>\n",
       "      <td>17.50</td>\n",
       "      <td>18.000000</td>\n",
       "      <td>35.0</td>\n",
       "      <td>36.0</td>\n",
       "      <td>35.0</td>\n",
       "      <td>36.0</td>\n",
       "    </tr>\n",
       "    <tr>\n",
       "      <th>23</th>\n",
       "      <td>2015-10-07</td>\n",
       "      <td>2015</td>\n",
       "      <td>October</td>\n",
       "      <td>27-36</td>\n",
       "      <td>0</td>\n",
       "      <td>United States</td>\n",
       "      <td>Washington</td>\n",
       "      <td>Accessories</td>\n",
       "      <td>Tires and Tubes</td>\n",
       "      <td>2</td>\n",
       "      <td>215.00</td>\n",
       "      <td>226.000000</td>\n",
       "      <td>430.0</td>\n",
       "      <td>452.0</td>\n",
       "      <td>430.0</td>\n",
       "      <td>452.0</td>\n",
       "    </tr>\n",
       "    <tr>\n",
       "      <th>24</th>\n",
       "      <td>2015-10-07</td>\n",
       "      <td>2015</td>\n",
       "      <td>October</td>\n",
       "      <td>27-36</td>\n",
       "      <td>0</td>\n",
       "      <td>United States</td>\n",
       "      <td>Washington</td>\n",
       "      <td>Accessories</td>\n",
       "      <td>Tires and Tubes</td>\n",
       "      <td>3</td>\n",
       "      <td>22.00</td>\n",
       "      <td>23.000000</td>\n",
       "      <td>66.0</td>\n",
       "      <td>69.0</td>\n",
       "      <td>66.0</td>\n",
       "      <td>69.0</td>\n",
       "    </tr>\n",
       "    <tr>\n",
       "      <th>25</th>\n",
       "      <td>2015-10-13</td>\n",
       "      <td>2015</td>\n",
       "      <td>October</td>\n",
       "      <td>27-36</td>\n",
       "      <td>0</td>\n",
       "      <td>United States</td>\n",
       "      <td>Washington</td>\n",
       "      <td>Accessories</td>\n",
       "      <td>Tires and Tubes</td>\n",
       "      <td>1</td>\n",
       "      <td>750.00</td>\n",
       "      <td>820.000000</td>\n",
       "      <td>750.0</td>\n",
       "      <td>820.0</td>\n",
       "      <td>750.0</td>\n",
       "      <td>820.0</td>\n",
       "    </tr>\n",
       "    <tr>\n",
       "      <th>26</th>\n",
       "      <td>2015-10-20</td>\n",
       "      <td>2015</td>\n",
       "      <td>October</td>\n",
       "      <td>27-36</td>\n",
       "      <td>0</td>\n",
       "      <td>United States</td>\n",
       "      <td>Washington</td>\n",
       "      <td>Accessories</td>\n",
       "      <td>Tires and Tubes</td>\n",
       "      <td>2</td>\n",
       "      <td>60.00</td>\n",
       "      <td>70.500000</td>\n",
       "      <td>120.0</td>\n",
       "      <td>141.0</td>\n",
       "      <td>120.0</td>\n",
       "      <td>141.0</td>\n",
       "    </tr>\n",
       "    <tr>\n",
       "      <th>27</th>\n",
       "      <td>2015-10-20</td>\n",
       "      <td>2015</td>\n",
       "      <td>October</td>\n",
       "      <td>27-36</td>\n",
       "      <td>0</td>\n",
       "      <td>United States</td>\n",
       "      <td>Washington</td>\n",
       "      <td>Accessories</td>\n",
       "      <td>Tires and Tubes</td>\n",
       "      <td>1</td>\n",
       "      <td>125.00</td>\n",
       "      <td>130.000000</td>\n",
       "      <td>125.0</td>\n",
       "      <td>130.0</td>\n",
       "      <td>125.0</td>\n",
       "      <td>130.0</td>\n",
       "    </tr>\n",
       "    <tr>\n",
       "      <th>28</th>\n",
       "      <td>2015-10-20</td>\n",
       "      <td>2015</td>\n",
       "      <td>October</td>\n",
       "      <td>27-36</td>\n",
       "      <td>0</td>\n",
       "      <td>United States</td>\n",
       "      <td>Washington</td>\n",
       "      <td>Accessories</td>\n",
       "      <td>Helmets</td>\n",
       "      <td>1</td>\n",
       "      <td>140.00</td>\n",
       "      <td>143.000000</td>\n",
       "      <td>140.0</td>\n",
       "      <td>143.0</td>\n",
       "      <td>140.0</td>\n",
       "      <td>143.0</td>\n",
       "    </tr>\n",
       "    <tr>\n",
       "      <th>29</th>\n",
       "      <td>2015-11-01</td>\n",
       "      <td>2015</td>\n",
       "      <td>November</td>\n",
       "      <td>27-36</td>\n",
       "      <td>0</td>\n",
       "      <td>United States</td>\n",
       "      <td>Washington</td>\n",
       "      <td>Accessories</td>\n",
       "      <td>Tires and Tubes</td>\n",
       "      <td>2</td>\n",
       "      <td>192.50</td>\n",
       "      <td>213.500000</td>\n",
       "      <td>385.0</td>\n",
       "      <td>427.0</td>\n",
       "      <td>385.0</td>\n",
       "      <td>427.0</td>\n",
       "    </tr>\n",
       "    <tr>\n",
       "      <th>30</th>\n",
       "      <td>2015-11-01</td>\n",
       "      <td>2015</td>\n",
       "      <td>November</td>\n",
       "      <td>27-36</td>\n",
       "      <td>0</td>\n",
       "      <td>United States</td>\n",
       "      <td>Washington</td>\n",
       "      <td>Accessories</td>\n",
       "      <td>Tires and Tubes</td>\n",
       "      <td>3</td>\n",
       "      <td>38.33</td>\n",
       "      <td>43.333333</td>\n",
       "      <td>115.0</td>\n",
       "      <td>130.0</td>\n",
       "      <td>115.0</td>\n",
       "      <td>130.0</td>\n",
       "    </tr>\n",
       "    <tr>\n",
       "      <th>31</th>\n",
       "      <td>2015-11-01</td>\n",
       "      <td>2015</td>\n",
       "      <td>November</td>\n",
       "      <td>27-36</td>\n",
       "      <td>0</td>\n",
       "      <td>United States</td>\n",
       "      <td>Washington</td>\n",
       "      <td>Accessories</td>\n",
       "      <td>Helmets</td>\n",
       "      <td>3</td>\n",
       "      <td>151.67</td>\n",
       "      <td>170.000000</td>\n",
       "      <td>455.0</td>\n",
       "      <td>510.0</td>\n",
       "      <td>455.0</td>\n",
       "      <td>510.0</td>\n",
       "    </tr>\n",
       "    <tr>\n",
       "      <th>32</th>\n",
       "      <td>2015-11-15</td>\n",
       "      <td>2015</td>\n",
       "      <td>November</td>\n",
       "      <td>27-36</td>\n",
       "      <td>0</td>\n",
       "      <td>United States</td>\n",
       "      <td>Washington</td>\n",
       "      <td>Accessories</td>\n",
       "      <td>Tires and Tubes</td>\n",
       "      <td>1</td>\n",
       "      <td>56.00</td>\n",
       "      <td>65.000000</td>\n",
       "      <td>56.0</td>\n",
       "      <td>65.0</td>\n",
       "      <td>56.0</td>\n",
       "      <td>65.0</td>\n",
       "    </tr>\n",
       "    <tr>\n",
       "      <th>33</th>\n",
       "      <td>2015-11-15</td>\n",
       "      <td>2015</td>\n",
       "      <td>November</td>\n",
       "      <td>27-36</td>\n",
       "      <td>0</td>\n",
       "      <td>United States</td>\n",
       "      <td>Washington</td>\n",
       "      <td>Accessories</td>\n",
       "      <td>Tires and Tubes</td>\n",
       "      <td>3</td>\n",
       "      <td>108.67</td>\n",
       "      <td>123.666667</td>\n",
       "      <td>326.0</td>\n",
       "      <td>371.0</td>\n",
       "      <td>326.0</td>\n",
       "      <td>371.0</td>\n",
       "    </tr>\n",
       "    <tr>\n",
       "      <th>34</th>\n",
       "      <td>2015-11-15</td>\n",
       "      <td>2015</td>\n",
       "      <td>November</td>\n",
       "      <td>27-36</td>\n",
       "      <td>0</td>\n",
       "      <td>United States</td>\n",
       "      <td>Washington</td>\n",
       "      <td>Accessories</td>\n",
       "      <td>Tires and Tubes</td>\n",
       "      <td>3</td>\n",
       "      <td>14.67</td>\n",
       "      <td>15.000000</td>\n",
       "      <td>44.0</td>\n",
       "      <td>45.0</td>\n",
       "      <td>44.0</td>\n",
       "      <td>45.0</td>\n",
       "    </tr>\n",
       "    <tr>\n",
       "      <th>35</th>\n",
       "      <td>2015-12-15</td>\n",
       "      <td>2015</td>\n",
       "      <td>December</td>\n",
       "      <td>27-36</td>\n",
       "      <td>0</td>\n",
       "      <td>United States</td>\n",
       "      <td>Washington</td>\n",
       "      <td>Accessories</td>\n",
       "      <td>Helmets</td>\n",
       "      <td>2</td>\n",
       "      <td>280.00</td>\n",
       "      <td>269.000000</td>\n",
       "      <td>560.0</td>\n",
       "      <td>538.0</td>\n",
       "      <td>560.0</td>\n",
       "      <td>538.0</td>\n",
       "    </tr>\n",
       "    <tr>\n",
       "      <th>36</th>\n",
       "      <td>2015-12-16</td>\n",
       "      <td>2015</td>\n",
       "      <td>December</td>\n",
       "      <td>27-36</td>\n",
       "      <td>0</td>\n",
       "      <td>United States</td>\n",
       "      <td>Washington</td>\n",
       "      <td>Accessories</td>\n",
       "      <td>Tires and Tubes</td>\n",
       "      <td>2</td>\n",
       "      <td>293.50</td>\n",
       "      <td>320.500000</td>\n",
       "      <td>587.0</td>\n",
       "      <td>641.0</td>\n",
       "      <td>587.0</td>\n",
       "      <td>641.0</td>\n",
       "    </tr>\n",
       "    <tr>\n",
       "      <th>37</th>\n",
       "      <td>2015-12-16</td>\n",
       "      <td>2015</td>\n",
       "      <td>December</td>\n",
       "      <td>27-36</td>\n",
       "      <td>0</td>\n",
       "      <td>United States</td>\n",
       "      <td>Washington</td>\n",
       "      <td>Accessories</td>\n",
       "      <td>Tires and Tubes</td>\n",
       "      <td>2</td>\n",
       "      <td>2.00</td>\n",
       "      <td>2.000000</td>\n",
       "      <td>4.0</td>\n",
       "      <td>4.0</td>\n",
       "      <td>4.0</td>\n",
       "      <td>4.0</td>\n",
       "    </tr>\n",
       "    <tr>\n",
       "      <th>38</th>\n",
       "      <td>2015-12-16</td>\n",
       "      <td>2015</td>\n",
       "      <td>December</td>\n",
       "      <td>27-36</td>\n",
       "      <td>0</td>\n",
       "      <td>United States</td>\n",
       "      <td>Washington</td>\n",
       "      <td>Accessories</td>\n",
       "      <td>Helmets</td>\n",
       "      <td>1</td>\n",
       "      <td>420.00</td>\n",
       "      <td>472.000000</td>\n",
       "      <td>420.0</td>\n",
       "      <td>472.0</td>\n",
       "      <td>420.0</td>\n",
       "      <td>472.0</td>\n",
       "    </tr>\n",
       "    <tr>\n",
       "      <th>39</th>\n",
       "      <td>2015-12-20</td>\n",
       "      <td>2015</td>\n",
       "      <td>December</td>\n",
       "      <td>27-36</td>\n",
       "      <td>0</td>\n",
       "      <td>United States</td>\n",
       "      <td>Washington</td>\n",
       "      <td>Accessories</td>\n",
       "      <td>Tires and Tubes</td>\n",
       "      <td>2</td>\n",
       "      <td>275.50</td>\n",
       "      <td>303.000000</td>\n",
       "      <td>551.0</td>\n",
       "      <td>606.0</td>\n",
       "      <td>551.0</td>\n",
       "      <td>606.0</td>\n",
       "    </tr>\n",
       "    <tr>\n",
       "      <th>40</th>\n",
       "      <td>2015-12-20</td>\n",
       "      <td>2015</td>\n",
       "      <td>December</td>\n",
       "      <td>27-36</td>\n",
       "      <td>0</td>\n",
       "      <td>United States</td>\n",
       "      <td>Washington</td>\n",
       "      <td>Accessories</td>\n",
       "      <td>Tires and Tubes</td>\n",
       "      <td>1</td>\n",
       "      <td>120.00</td>\n",
       "      <td>120.000000</td>\n",
       "      <td>120.0</td>\n",
       "      <td>120.0</td>\n",
       "      <td>120.0</td>\n",
       "      <td>120.0</td>\n",
       "    </tr>\n",
       "    <tr>\n",
       "      <th>41</th>\n",
       "      <td>2015-12-20</td>\n",
       "      <td>2015</td>\n",
       "      <td>December</td>\n",
       "      <td>27-36</td>\n",
       "      <td>0</td>\n",
       "      <td>United States</td>\n",
       "      <td>Washington</td>\n",
       "      <td>Accessories</td>\n",
       "      <td>Helmets</td>\n",
       "      <td>1</td>\n",
       "      <td>630.00</td>\n",
       "      <td>624.000000</td>\n",
       "      <td>630.0</td>\n",
       "      <td>624.0</td>\n",
       "      <td>630.0</td>\n",
       "      <td>624.0</td>\n",
       "    </tr>\n",
       "    <tr>\n",
       "      <th>42</th>\n",
       "      <td>2015-12-25</td>\n",
       "      <td>2015</td>\n",
       "      <td>December</td>\n",
       "      <td>27-36</td>\n",
       "      <td>0</td>\n",
       "      <td>United States</td>\n",
       "      <td>Washington</td>\n",
       "      <td>Accessories</td>\n",
       "      <td>Tires and Tubes</td>\n",
       "      <td>2</td>\n",
       "      <td>32.50</td>\n",
       "      <td>36.000000</td>\n",
       "      <td>65.0</td>\n",
       "      <td>72.0</td>\n",
       "      <td>65.0</td>\n",
       "      <td>72.0</td>\n",
       "    </tr>\n",
       "    <tr>\n",
       "      <th>43</th>\n",
       "      <td>2015-12-25</td>\n",
       "      <td>2015</td>\n",
       "      <td>December</td>\n",
       "      <td>27-36</td>\n",
       "      <td>0</td>\n",
       "      <td>United States</td>\n",
       "      <td>Washington</td>\n",
       "      <td>Accessories</td>\n",
       "      <td>Tires and Tubes</td>\n",
       "      <td>3</td>\n",
       "      <td>338.33</td>\n",
       "      <td>389.333333</td>\n",
       "      <td>1015.0</td>\n",
       "      <td>1168.0</td>\n",
       "      <td>1015.0</td>\n",
       "      <td>1168.0</td>\n",
       "    </tr>\n",
       "    <tr>\n",
       "      <th>44</th>\n",
       "      <td>2015-12-25</td>\n",
       "      <td>2015</td>\n",
       "      <td>December</td>\n",
       "      <td>27-36</td>\n",
       "      <td>0</td>\n",
       "      <td>United States</td>\n",
       "      <td>Washington</td>\n",
       "      <td>Accessories</td>\n",
       "      <td>Tires and Tubes</td>\n",
       "      <td>3</td>\n",
       "      <td>10.67</td>\n",
       "      <td>11.000000</td>\n",
       "      <td>32.0</td>\n",
       "      <td>33.0</td>\n",
       "      <td>32.0</td>\n",
       "      <td>33.0</td>\n",
       "    </tr>\n",
       "    <tr>\n",
       "      <th>45</th>\n",
       "      <td>2015-12-29</td>\n",
       "      <td>2015</td>\n",
       "      <td>December</td>\n",
       "      <td>27-36</td>\n",
       "      <td>0</td>\n",
       "      <td>United States</td>\n",
       "      <td>Washington</td>\n",
       "      <td>Accessories</td>\n",
       "      <td>Tires and Tubes</td>\n",
       "      <td>3</td>\n",
       "      <td>36.67</td>\n",
       "      <td>41.666667</td>\n",
       "      <td>110.0</td>\n",
       "      <td>125.0</td>\n",
       "      <td>110.0</td>\n",
       "      <td>125.0</td>\n",
       "    </tr>\n",
       "    <tr>\n",
       "      <th>46</th>\n",
       "      <td>2015-12-29</td>\n",
       "      <td>2015</td>\n",
       "      <td>December</td>\n",
       "      <td>27-36</td>\n",
       "      <td>0</td>\n",
       "      <td>United States</td>\n",
       "      <td>Washington</td>\n",
       "      <td>Accessories</td>\n",
       "      <td>Helmets</td>\n",
       "      <td>2</td>\n",
       "      <td>245.00</td>\n",
       "      <td>249.500000</td>\n",
       "      <td>490.0</td>\n",
       "      <td>499.0</td>\n",
       "      <td>490.0</td>\n",
       "      <td>499.0</td>\n",
       "    </tr>\n",
       "    <tr>\n",
       "      <th>47</th>\n",
       "      <td>2015-07-22</td>\n",
       "      <td>2015</td>\n",
       "      <td>July</td>\n",
       "      <td>Under 27</td>\n",
       "      <td>0</td>\n",
       "      <td>United States</td>\n",
       "      <td>California</td>\n",
       "      <td>Accessories</td>\n",
       "      <td>Bike Stands</td>\n",
       "      <td>1</td>\n",
       "      <td>636.00</td>\n",
       "      <td>677.000000</td>\n",
       "      <td>636.0</td>\n",
       "      <td>677.0</td>\n",
       "      <td>636.0</td>\n",
       "      <td>677.0</td>\n",
       "    </tr>\n",
       "    <tr>\n",
       "      <th>48</th>\n",
       "      <td>2015-10-10</td>\n",
       "      <td>2015</td>\n",
       "      <td>October</td>\n",
       "      <td>Under 27</td>\n",
       "      <td>0</td>\n",
       "      <td>United States</td>\n",
       "      <td>California</td>\n",
       "      <td>Accessories</td>\n",
       "      <td>Bike Stands</td>\n",
       "      <td>3</td>\n",
       "      <td>159.00</td>\n",
       "      <td>170.666667</td>\n",
       "      <td>477.0</td>\n",
       "      <td>512.0</td>\n",
       "      <td>477.0</td>\n",
       "      <td>512.0</td>\n",
       "    </tr>\n",
       "    <tr>\n",
       "      <th>49</th>\n",
       "      <td>2016-06-11</td>\n",
       "      <td>2016</td>\n",
       "      <td>June</td>\n",
       "      <td>Under 27</td>\n",
       "      <td>1</td>\n",
       "      <td>United States</td>\n",
       "      <td>California</td>\n",
       "      <td>Bikes</td>\n",
       "      <td>Mountain Bikes</td>\n",
       "      <td>1</td>\n",
       "      <td>769.00</td>\n",
       "      <td>875.000000</td>\n",
       "      <td>769.0</td>\n",
       "      <td>875.0</td>\n",
       "      <td>769.0</td>\n",
       "      <td>875.0</td>\n",
       "    </tr>\n",
       "    <tr>\n",
       "      <th>50</th>\n",
       "      <td>2015-08-13</td>\n",
       "      <td>2015</td>\n",
       "      <td>August</td>\n",
       "      <td>Under 27</td>\n",
       "      <td>1</td>\n",
       "      <td>United States</td>\n",
       "      <td>California</td>\n",
       "      <td>Bikes</td>\n",
       "      <td>Mountain Bikes</td>\n",
       "      <td>1</td>\n",
       "      <td>2295.00</td>\n",
       "      <td>2242.000000</td>\n",
       "      <td>2295.0</td>\n",
       "      <td>2242.0</td>\n",
       "      <td>2295.0</td>\n",
       "      <td>2242.0</td>\n",
       "    </tr>\n",
       "    <tr>\n",
       "      <th>51</th>\n",
       "      <td>2015-09-10</td>\n",
       "      <td>2015</td>\n",
       "      <td>September</td>\n",
       "      <td>Under 27</td>\n",
       "      <td>1</td>\n",
       "      <td>United States</td>\n",
       "      <td>California</td>\n",
       "      <td>Bikes</td>\n",
       "      <td>Mountain Bikes</td>\n",
       "      <td>1</td>\n",
       "      <td>769.00</td>\n",
       "      <td>776.000000</td>\n",
       "      <td>769.0</td>\n",
       "      <td>776.0</td>\n",
       "      <td>769.0</td>\n",
       "      <td>776.0</td>\n",
       "    </tr>\n",
       "    <tr>\n",
       "      <th>52</th>\n",
       "      <td>2015-10-20</td>\n",
       "      <td>2015</td>\n",
       "      <td>October</td>\n",
       "      <td>Under 27</td>\n",
       "      <td>1</td>\n",
       "      <td>United States</td>\n",
       "      <td>California</td>\n",
       "      <td>Bikes</td>\n",
       "      <td>Mountain Bikes</td>\n",
       "      <td>2</td>\n",
       "      <td>1160.00</td>\n",
       "      <td>1005.000000</td>\n",
       "      <td>2320.0</td>\n",
       "      <td>2010.0</td>\n",
       "      <td>2320.0</td>\n",
       "      <td>2010.0</td>\n",
       "    </tr>\n",
       "    <tr>\n",
       "      <th>53</th>\n",
       "      <td>2015-12-21</td>\n",
       "      <td>2015</td>\n",
       "      <td>December</td>\n",
       "      <td>Under 27</td>\n",
       "      <td>1</td>\n",
       "      <td>United States</td>\n",
       "      <td>California</td>\n",
       "      <td>Bikes</td>\n",
       "      <td>Mountain Bikes</td>\n",
       "      <td>1</td>\n",
       "      <td>2295.00</td>\n",
       "      <td>2303.000000</td>\n",
       "      <td>2295.0</td>\n",
       "      <td>2303.0</td>\n",
       "      <td>2295.0</td>\n",
       "      <td>2303.0</td>\n",
       "    </tr>\n",
       "    <tr>\n",
       "      <th>54</th>\n",
       "      <td>2015-07-27</td>\n",
       "      <td>2015</td>\n",
       "      <td>July</td>\n",
       "      <td>Under 27</td>\n",
       "      <td>0</td>\n",
       "      <td>United States</td>\n",
       "      <td>Oregon</td>\n",
       "      <td>Accessories</td>\n",
       "      <td>Hydration Packs</td>\n",
       "      <td>2</td>\n",
       "      <td>797.50</td>\n",
       "      <td>813.000000</td>\n",
       "      <td>1595.0</td>\n",
       "      <td>1626.0</td>\n",
       "      <td>1595.0</td>\n",
       "      <td>1626.0</td>\n",
       "    </tr>\n",
       "    <tr>\n",
       "      <th>55</th>\n",
       "      <td>2016-02-07</td>\n",
       "      <td>2016</td>\n",
       "      <td>February</td>\n",
       "      <td>Under 27</td>\n",
       "      <td>1</td>\n",
       "      <td>United States</td>\n",
       "      <td>Washington</td>\n",
       "      <td>Bikes</td>\n",
       "      <td>Mountain Bikes</td>\n",
       "      <td>3</td>\n",
       "      <td>180.00</td>\n",
       "      <td>188.333333</td>\n",
       "      <td>540.0</td>\n",
       "      <td>565.0</td>\n",
       "      <td>540.0</td>\n",
       "      <td>565.0</td>\n",
       "    </tr>\n",
       "    <tr>\n",
       "      <th>56</th>\n",
       "      <td>2015-07-24</td>\n",
       "      <td>2015</td>\n",
       "      <td>July</td>\n",
       "      <td>Under 27</td>\n",
       "      <td>1</td>\n",
       "      <td>United States</td>\n",
       "      <td>Washington</td>\n",
       "      <td>Bikes</td>\n",
       "      <td>Mountain Bikes</td>\n",
       "      <td>1</td>\n",
       "      <td>2320.00</td>\n",
       "      <td>2160.000000</td>\n",
       "      <td>2320.0</td>\n",
       "      <td>2160.0</td>\n",
       "      <td>2320.0</td>\n",
       "      <td>2160.0</td>\n",
       "    </tr>\n",
       "    <tr>\n",
       "      <th>57</th>\n",
       "      <td>2016-03-20</td>\n",
       "      <td>2016</td>\n",
       "      <td>March</td>\n",
       "      <td>Under 27</td>\n",
       "      <td>1</td>\n",
       "      <td>United States</td>\n",
       "      <td>California</td>\n",
       "      <td>Clothing</td>\n",
       "      <td>Jerseys</td>\n",
       "      <td>3</td>\n",
       "      <td>100.00</td>\n",
       "      <td>117.666667</td>\n",
       "      <td>300.0</td>\n",
       "      <td>353.0</td>\n",
       "      <td>300.0</td>\n",
       "      <td>353.0</td>\n",
       "    </tr>\n",
       "    <tr>\n",
       "      <th>58</th>\n",
       "      <td>2016-03-21</td>\n",
       "      <td>2016</td>\n",
       "      <td>March</td>\n",
       "      <td>Under 27</td>\n",
       "      <td>1</td>\n",
       "      <td>United States</td>\n",
       "      <td>California</td>\n",
       "      <td>Clothing</td>\n",
       "      <td>Jerseys</td>\n",
       "      <td>1</td>\n",
       "      <td>750.00</td>\n",
       "      <td>985.000000</td>\n",
       "      <td>750.0</td>\n",
       "      <td>985.0</td>\n",
       "      <td>750.0</td>\n",
       "      <td>985.0</td>\n",
       "    </tr>\n",
       "    <tr>\n",
       "      <th>59</th>\n",
       "      <td>2016-05-06</td>\n",
       "      <td>2016</td>\n",
       "      <td>May</td>\n",
       "      <td>Under 27</td>\n",
       "      <td>1</td>\n",
       "      <td>United States</td>\n",
       "      <td>California</td>\n",
       "      <td>Clothing</td>\n",
       "      <td>Jerseys</td>\n",
       "      <td>3</td>\n",
       "      <td>133.33</td>\n",
       "      <td>164.333333</td>\n",
       "      <td>400.0</td>\n",
       "      <td>493.0</td>\n",
       "      <td>400.0</td>\n",
       "      <td>493.0</td>\n",
       "    </tr>\n",
       "  </tbody>\n",
       "</table>\n",
       "</div>"
      ],
      "text/plain": [
       "         date  year      month customer_age  customer_gender        country  \\\n",
       "0  2016-02-19  2016   February        27-36                0  United States   \n",
       "1  2016-02-20  2016   February        27-36                0  United States   \n",
       "2  2016-02-27  2016   February        27-36                0  United States   \n",
       "3  2016-03-12  2016      March        27-36                0  United States   \n",
       "4  2016-03-12  2016      March        27-36                0  United States   \n",
       "5  2016-04-08  2016      April        27-36                0  United States   \n",
       "6  2016-04-17  2016      April        27-36                0  United States   \n",
       "7  2016-04-17  2016      April        27-36                0  United States   \n",
       "8  2016-06-22  2016       June        27-36                0  United States   \n",
       "9  2016-06-22  2016       June        27-36                0  United States   \n",
       "10 2016-06-24  2016       June        27-36                0  United States   \n",
       "11 2016-07-01  2016       July        27-36                0  United States   \n",
       "12 2016-07-22  2016       July        27-36                0  United States   \n",
       "13 2016-07-22  2016       July        27-36                0  United States   \n",
       "14 2015-08-18  2015     August        27-36                0  United States   \n",
       "15 2015-08-30  2015     August        27-36                0  United States   \n",
       "16 2015-09-17  2015  September        27-36                0  United States   \n",
       "17 2015-09-17  2015  September        27-36                0  United States   \n",
       "18 2015-09-17  2015  September        27-36                0  United States   \n",
       "19 2015-09-24  2015  September        27-36                0  United States   \n",
       "20 2015-09-24  2015  September        27-36                0  United States   \n",
       "21 2015-10-07  2015    October        27-36                0  United States   \n",
       "22 2015-10-07  2015    October        27-36                0  United States   \n",
       "23 2015-10-07  2015    October        27-36                0  United States   \n",
       "24 2015-10-07  2015    October        27-36                0  United States   \n",
       "25 2015-10-13  2015    October        27-36                0  United States   \n",
       "26 2015-10-20  2015    October        27-36                0  United States   \n",
       "27 2015-10-20  2015    October        27-36                0  United States   \n",
       "28 2015-10-20  2015    October        27-36                0  United States   \n",
       "29 2015-11-01  2015   November        27-36                0  United States   \n",
       "30 2015-11-01  2015   November        27-36                0  United States   \n",
       "31 2015-11-01  2015   November        27-36                0  United States   \n",
       "32 2015-11-15  2015   November        27-36                0  United States   \n",
       "33 2015-11-15  2015   November        27-36                0  United States   \n",
       "34 2015-11-15  2015   November        27-36                0  United States   \n",
       "35 2015-12-15  2015   December        27-36                0  United States   \n",
       "36 2015-12-16  2015   December        27-36                0  United States   \n",
       "37 2015-12-16  2015   December        27-36                0  United States   \n",
       "38 2015-12-16  2015   December        27-36                0  United States   \n",
       "39 2015-12-20  2015   December        27-36                0  United States   \n",
       "40 2015-12-20  2015   December        27-36                0  United States   \n",
       "41 2015-12-20  2015   December        27-36                0  United States   \n",
       "42 2015-12-25  2015   December        27-36                0  United States   \n",
       "43 2015-12-25  2015   December        27-36                0  United States   \n",
       "44 2015-12-25  2015   December        27-36                0  United States   \n",
       "45 2015-12-29  2015   December        27-36                0  United States   \n",
       "46 2015-12-29  2015   December        27-36                0  United States   \n",
       "47 2015-07-22  2015       July     Under 27                0  United States   \n",
       "48 2015-10-10  2015    October     Under 27                0  United States   \n",
       "49 2016-06-11  2016       June     Under 27                1  United States   \n",
       "50 2015-08-13  2015     August     Under 27                1  United States   \n",
       "51 2015-09-10  2015  September     Under 27                1  United States   \n",
       "52 2015-10-20  2015    October     Under 27                1  United States   \n",
       "53 2015-12-21  2015   December     Under 27                1  United States   \n",
       "54 2015-07-27  2015       July     Under 27                0  United States   \n",
       "55 2016-02-07  2016   February     Under 27                1  United States   \n",
       "56 2015-07-24  2015       July     Under 27                1  United States   \n",
       "57 2016-03-20  2016      March     Under 27                1  United States   \n",
       "58 2016-03-21  2016      March     Under 27                1  United States   \n",
       "59 2016-05-06  2016        May     Under 27                1  United States   \n",
       "\n",
       "         state product_category     sub_category  quantity  unit_cost  \\\n",
       "0   Washington      Accessories  Tires and Tubes         1      80.00   \n",
       "1   Washington         Clothing           Gloves         2      24.50   \n",
       "2   Washington      Accessories  Tires and Tubes         3       3.67   \n",
       "3   Washington      Accessories  Tires and Tubes         2      87.50   \n",
       "4   Washington      Accessories  Tires and Tubes         3      35.00   \n",
       "5   Washington      Accessories  Tires and Tubes         1      66.00   \n",
       "6   Washington      Accessories  Tires and Tubes         2      52.00   \n",
       "7   Washington      Accessories  Tires and Tubes         1      60.00   \n",
       "8   Washington      Accessories  Tires and Tubes         2       8.00   \n",
       "9   Washington      Accessories  Tires and Tubes         2       2.50   \n",
       "10  Washington      Accessories          Helmets         2      17.50   \n",
       "11  Washington      Accessories  Tires and Tubes         3      40.00   \n",
       "12  Washington      Accessories  Tires and Tubes         2      46.00   \n",
       "13  Washington      Accessories  Tires and Tubes         1       9.00   \n",
       "14  Washington      Accessories          Helmets         3     151.67   \n",
       "15  Washington      Accessories  Tires and Tubes         3      70.00   \n",
       "16  Washington      Accessories  Tires and Tubes         1     385.00   \n",
       "17  Washington      Accessories  Tires and Tubes         2      72.50   \n",
       "18  Washington      Accessories          Helmets         3     210.00   \n",
       "19  Washington      Accessories  Tires and Tubes         1      64.00   \n",
       "20  Washington      Accessories          Helmets         3     326.67   \n",
       "21  Washington      Accessories  Tires and Tubes         1     125.00   \n",
       "22  Washington      Accessories          Helmets         2      17.50   \n",
       "23  Washington      Accessories  Tires and Tubes         2     215.00   \n",
       "24  Washington      Accessories  Tires and Tubes         3      22.00   \n",
       "25  Washington      Accessories  Tires and Tubes         1     750.00   \n",
       "26  Washington      Accessories  Tires and Tubes         2      60.00   \n",
       "27  Washington      Accessories  Tires and Tubes         1     125.00   \n",
       "28  Washington      Accessories          Helmets         1     140.00   \n",
       "29  Washington      Accessories  Tires and Tubes         2     192.50   \n",
       "30  Washington      Accessories  Tires and Tubes         3      38.33   \n",
       "31  Washington      Accessories          Helmets         3     151.67   \n",
       "32  Washington      Accessories  Tires and Tubes         1      56.00   \n",
       "33  Washington      Accessories  Tires and Tubes         3     108.67   \n",
       "34  Washington      Accessories  Tires and Tubes         3      14.67   \n",
       "35  Washington      Accessories          Helmets         2     280.00   \n",
       "36  Washington      Accessories  Tires and Tubes         2     293.50   \n",
       "37  Washington      Accessories  Tires and Tubes         2       2.00   \n",
       "38  Washington      Accessories          Helmets         1     420.00   \n",
       "39  Washington      Accessories  Tires and Tubes         2     275.50   \n",
       "40  Washington      Accessories  Tires and Tubes         1     120.00   \n",
       "41  Washington      Accessories          Helmets         1     630.00   \n",
       "42  Washington      Accessories  Tires and Tubes         2      32.50   \n",
       "43  Washington      Accessories  Tires and Tubes         3     338.33   \n",
       "44  Washington      Accessories  Tires and Tubes         3      10.67   \n",
       "45  Washington      Accessories  Tires and Tubes         3      36.67   \n",
       "46  Washington      Accessories          Helmets         2     245.00   \n",
       "47  California      Accessories      Bike Stands         1     636.00   \n",
       "48  California      Accessories      Bike Stands         3     159.00   \n",
       "49  California            Bikes   Mountain Bikes         1     769.00   \n",
       "50  California            Bikes   Mountain Bikes         1    2295.00   \n",
       "51  California            Bikes   Mountain Bikes         1     769.00   \n",
       "52  California            Bikes   Mountain Bikes         2    1160.00   \n",
       "53  California            Bikes   Mountain Bikes         1    2295.00   \n",
       "54      Oregon      Accessories  Hydration Packs         2     797.50   \n",
       "55  Washington            Bikes   Mountain Bikes         3     180.00   \n",
       "56  Washington            Bikes   Mountain Bikes         1    2320.00   \n",
       "57  California         Clothing          Jerseys         3     100.00   \n",
       "58  California         Clothing          Jerseys         1     750.00   \n",
       "59  California         Clothing          Jerseys         3     133.33   \n",
       "\n",
       "     unit_price    cost  revenue  new_column_cost  new_column_revenue  \n",
       "0    109.000000    80.0    109.0             80.0               109.0  \n",
       "1     28.500000    49.0     57.0             49.0                57.0  \n",
       "2      5.000000    11.0     15.0             11.0                15.0  \n",
       "3    116.500000   175.0    233.0            175.0               233.0  \n",
       "4     41.666667   105.0    125.0            105.0               125.0  \n",
       "5     78.000000    66.0     78.0             66.0                78.0  \n",
       "6     60.000000   104.0    120.0            104.0               120.0  \n",
       "7     68.000000    60.0     68.0             60.0                68.0  \n",
       "8     10.000000    16.0     20.0             16.0                20.0  \n",
       "9      3.000000     5.0      6.0              5.0                 6.0  \n",
       "10    21.000000    35.0     42.0             35.0                42.0  \n",
       "11    48.666667   120.0    146.0            120.0               146.0  \n",
       "12    60.000000    92.0    120.0             92.0               120.0  \n",
       "13    10.000000     9.0     10.0              9.0                10.0  \n",
       "14   181.333333   455.0    544.0            455.0               544.0  \n",
       "15    72.666667   210.0    218.0            210.0               218.0  \n",
       "16   439.000000   385.0    439.0            385.0               439.0  \n",
       "17    86.500000   145.0    173.0            145.0               173.0  \n",
       "18   212.666667   630.0    638.0            630.0               638.0  \n",
       "19    74.000000    64.0     74.0             64.0                74.0  \n",
       "20   359.666667   980.0   1079.0            980.0              1079.0  \n",
       "21   136.000000   125.0    136.0            125.0               136.0  \n",
       "22    18.000000    35.0     36.0             35.0                36.0  \n",
       "23   226.000000   430.0    452.0            430.0               452.0  \n",
       "24    23.000000    66.0     69.0             66.0                69.0  \n",
       "25   820.000000   750.0    820.0            750.0               820.0  \n",
       "26    70.500000   120.0    141.0            120.0               141.0  \n",
       "27   130.000000   125.0    130.0            125.0               130.0  \n",
       "28   143.000000   140.0    143.0            140.0               143.0  \n",
       "29   213.500000   385.0    427.0            385.0               427.0  \n",
       "30    43.333333   115.0    130.0            115.0               130.0  \n",
       "31   170.000000   455.0    510.0            455.0               510.0  \n",
       "32    65.000000    56.0     65.0             56.0                65.0  \n",
       "33   123.666667   326.0    371.0            326.0               371.0  \n",
       "34    15.000000    44.0     45.0             44.0                45.0  \n",
       "35   269.000000   560.0    538.0            560.0               538.0  \n",
       "36   320.500000   587.0    641.0            587.0               641.0  \n",
       "37     2.000000     4.0      4.0              4.0                 4.0  \n",
       "38   472.000000   420.0    472.0            420.0               472.0  \n",
       "39   303.000000   551.0    606.0            551.0               606.0  \n",
       "40   120.000000   120.0    120.0            120.0               120.0  \n",
       "41   624.000000   630.0    624.0            630.0               624.0  \n",
       "42    36.000000    65.0     72.0             65.0                72.0  \n",
       "43   389.333333  1015.0   1168.0           1015.0              1168.0  \n",
       "44    11.000000    32.0     33.0             32.0                33.0  \n",
       "45    41.666667   110.0    125.0            110.0               125.0  \n",
       "46   249.500000   490.0    499.0            490.0               499.0  \n",
       "47   677.000000   636.0    677.0            636.0               677.0  \n",
       "48   170.666667   477.0    512.0            477.0               512.0  \n",
       "49   875.000000   769.0    875.0            769.0               875.0  \n",
       "50  2242.000000  2295.0   2242.0           2295.0              2242.0  \n",
       "51   776.000000   769.0    776.0            769.0               776.0  \n",
       "52  1005.000000  2320.0   2010.0           2320.0              2010.0  \n",
       "53  2303.000000  2295.0   2303.0           2295.0              2303.0  \n",
       "54   813.000000  1595.0   1626.0           1595.0              1626.0  \n",
       "55   188.333333   540.0    565.0            540.0               565.0  \n",
       "56  2160.000000  2320.0   2160.0           2320.0              2160.0  \n",
       "57   117.666667   300.0    353.0            300.0               353.0  \n",
       "58   985.000000   750.0    985.0            750.0               985.0  \n",
       "59   164.333333   400.0    493.0            400.0               493.0  "
      ]
     },
     "execution_count": 32,
     "metadata": {},
     "output_type": "execute_result"
    }
   ],
   "source": [
    "data.head(60)"
   ]
  },
  {
   "cell_type": "code",
   "execution_count": 33,
   "id": "c31921ea",
   "metadata": {},
   "outputs": [
    {
     "data": {
      "text/plain": [
       "True    34866\n",
       "Name: new_column_cost, dtype: int64"
      ]
     },
     "execution_count": 33,
     "metadata": {},
     "output_type": "execute_result"
    }
   ],
   "source": [
    "data[\"new_column_cost\"]= data[\"new_column_cost\"] == data[\"cost\"]\n",
    "data[\"new_column_cost\"].value_counts()"
   ]
  },
  {
   "cell_type": "code",
   "execution_count": 34,
   "id": "7fcae06f",
   "metadata": {},
   "outputs": [
    {
     "data": {
      "text/plain": [
       "True    34866\n",
       "Name: new_column_revenue, dtype: int64"
      ]
     },
     "execution_count": 34,
     "metadata": {},
     "output_type": "execute_result"
    }
   ],
   "source": [
    "data[\"new_column_revenue\"]= data[\"new_column_revenue\"] == data[\"revenue\"]\n",
    "data[\"new_column_revenue\"].value_counts()"
   ]
  },
  {
   "cell_type": "markdown",
   "id": "e729206d",
   "metadata": {},
   "source": [
    "# Add a new column 'profit'"
   ]
  },
  {
   "cell_type": "code",
   "execution_count": 35,
   "id": "7a2dc1bf",
   "metadata": {},
   "outputs": [
    {
     "data": {
      "text/html": [
       "<div>\n",
       "<style scoped>\n",
       "    .dataframe tbody tr th:only-of-type {\n",
       "        vertical-align: middle;\n",
       "    }\n",
       "\n",
       "    .dataframe tbody tr th {\n",
       "        vertical-align: top;\n",
       "    }\n",
       "\n",
       "    .dataframe thead th {\n",
       "        text-align: right;\n",
       "    }\n",
       "</style>\n",
       "<table border=\"1\" class=\"dataframe\">\n",
       "  <thead>\n",
       "    <tr style=\"text-align: right;\">\n",
       "      <th></th>\n",
       "      <th>date</th>\n",
       "      <th>year</th>\n",
       "      <th>month</th>\n",
       "      <th>customer_age</th>\n",
       "      <th>customer_gender</th>\n",
       "      <th>country</th>\n",
       "      <th>state</th>\n",
       "      <th>product_category</th>\n",
       "      <th>sub_category</th>\n",
       "      <th>quantity</th>\n",
       "      <th>unit_cost</th>\n",
       "      <th>unit_price</th>\n",
       "      <th>cost</th>\n",
       "      <th>revenue</th>\n",
       "      <th>new_column_cost</th>\n",
       "      <th>new_column_revenue</th>\n",
       "      <th>profit</th>\n",
       "    </tr>\n",
       "  </thead>\n",
       "  <tbody>\n",
       "    <tr>\n",
       "      <th>0</th>\n",
       "      <td>2016-02-19</td>\n",
       "      <td>2016</td>\n",
       "      <td>February</td>\n",
       "      <td>27-36</td>\n",
       "      <td>0</td>\n",
       "      <td>United States</td>\n",
       "      <td>Washington</td>\n",
       "      <td>Accessories</td>\n",
       "      <td>Tires and Tubes</td>\n",
       "      <td>1</td>\n",
       "      <td>80.00</td>\n",
       "      <td>109.000000</td>\n",
       "      <td>80.0</td>\n",
       "      <td>109.0</td>\n",
       "      <td>True</td>\n",
       "      <td>True</td>\n",
       "      <td>29.0</td>\n",
       "    </tr>\n",
       "    <tr>\n",
       "      <th>1</th>\n",
       "      <td>2016-02-20</td>\n",
       "      <td>2016</td>\n",
       "      <td>February</td>\n",
       "      <td>27-36</td>\n",
       "      <td>0</td>\n",
       "      <td>United States</td>\n",
       "      <td>Washington</td>\n",
       "      <td>Clothing</td>\n",
       "      <td>Gloves</td>\n",
       "      <td>2</td>\n",
       "      <td>24.50</td>\n",
       "      <td>28.500000</td>\n",
       "      <td>49.0</td>\n",
       "      <td>57.0</td>\n",
       "      <td>True</td>\n",
       "      <td>True</td>\n",
       "      <td>8.0</td>\n",
       "    </tr>\n",
       "    <tr>\n",
       "      <th>2</th>\n",
       "      <td>2016-02-27</td>\n",
       "      <td>2016</td>\n",
       "      <td>February</td>\n",
       "      <td>27-36</td>\n",
       "      <td>0</td>\n",
       "      <td>United States</td>\n",
       "      <td>Washington</td>\n",
       "      <td>Accessories</td>\n",
       "      <td>Tires and Tubes</td>\n",
       "      <td>3</td>\n",
       "      <td>3.67</td>\n",
       "      <td>5.000000</td>\n",
       "      <td>11.0</td>\n",
       "      <td>15.0</td>\n",
       "      <td>True</td>\n",
       "      <td>True</td>\n",
       "      <td>4.0</td>\n",
       "    </tr>\n",
       "    <tr>\n",
       "      <th>3</th>\n",
       "      <td>2016-03-12</td>\n",
       "      <td>2016</td>\n",
       "      <td>March</td>\n",
       "      <td>27-36</td>\n",
       "      <td>0</td>\n",
       "      <td>United States</td>\n",
       "      <td>Washington</td>\n",
       "      <td>Accessories</td>\n",
       "      <td>Tires and Tubes</td>\n",
       "      <td>2</td>\n",
       "      <td>87.50</td>\n",
       "      <td>116.500000</td>\n",
       "      <td>175.0</td>\n",
       "      <td>233.0</td>\n",
       "      <td>True</td>\n",
       "      <td>True</td>\n",
       "      <td>58.0</td>\n",
       "    </tr>\n",
       "    <tr>\n",
       "      <th>4</th>\n",
       "      <td>2016-03-12</td>\n",
       "      <td>2016</td>\n",
       "      <td>March</td>\n",
       "      <td>27-36</td>\n",
       "      <td>0</td>\n",
       "      <td>United States</td>\n",
       "      <td>Washington</td>\n",
       "      <td>Accessories</td>\n",
       "      <td>Tires and Tubes</td>\n",
       "      <td>3</td>\n",
       "      <td>35.00</td>\n",
       "      <td>41.666667</td>\n",
       "      <td>105.0</td>\n",
       "      <td>125.0</td>\n",
       "      <td>True</td>\n",
       "      <td>True</td>\n",
       "      <td>20.0</td>\n",
       "    </tr>\n",
       "    <tr>\n",
       "      <th>...</th>\n",
       "      <td>...</td>\n",
       "      <td>...</td>\n",
       "      <td>...</td>\n",
       "      <td>...</td>\n",
       "      <td>...</td>\n",
       "      <td>...</td>\n",
       "      <td>...</td>\n",
       "      <td>...</td>\n",
       "      <td>...</td>\n",
       "      <td>...</td>\n",
       "      <td>...</td>\n",
       "      <td>...</td>\n",
       "      <td>...</td>\n",
       "      <td>...</td>\n",
       "      <td>...</td>\n",
       "      <td>...</td>\n",
       "      <td>...</td>\n",
       "    </tr>\n",
       "    <tr>\n",
       "      <th>34861</th>\n",
       "      <td>2015-03-22</td>\n",
       "      <td>2015</td>\n",
       "      <td>March</td>\n",
       "      <td>37-46</td>\n",
       "      <td>1</td>\n",
       "      <td>France</td>\n",
       "      <td>Other_French_States</td>\n",
       "      <td>Bikes</td>\n",
       "      <td>Mountain Bikes</td>\n",
       "      <td>1</td>\n",
       "      <td>2049.00</td>\n",
       "      <td>1487.000000</td>\n",
       "      <td>2049.0</td>\n",
       "      <td>1487.0</td>\n",
       "      <td>True</td>\n",
       "      <td>True</td>\n",
       "      <td>-562.0</td>\n",
       "    </tr>\n",
       "    <tr>\n",
       "      <th>34862</th>\n",
       "      <td>2016-02-07</td>\n",
       "      <td>2016</td>\n",
       "      <td>February</td>\n",
       "      <td>37-46</td>\n",
       "      <td>1</td>\n",
       "      <td>France</td>\n",
       "      <td>Hauts de Seine</td>\n",
       "      <td>Bikes</td>\n",
       "      <td>Mountain Bikes</td>\n",
       "      <td>2</td>\n",
       "      <td>1160.00</td>\n",
       "      <td>985.500000</td>\n",
       "      <td>2320.0</td>\n",
       "      <td>1971.0</td>\n",
       "      <td>True</td>\n",
       "      <td>True</td>\n",
       "      <td>-349.0</td>\n",
       "    </tr>\n",
       "    <tr>\n",
       "      <th>34863</th>\n",
       "      <td>2015-03-13</td>\n",
       "      <td>2015</td>\n",
       "      <td>March</td>\n",
       "      <td>37-46</td>\n",
       "      <td>1</td>\n",
       "      <td>France</td>\n",
       "      <td>Hauts de Seine</td>\n",
       "      <td>Bikes</td>\n",
       "      <td>Mountain Bikes</td>\n",
       "      <td>1</td>\n",
       "      <td>2049.00</td>\n",
       "      <td>1583.000000</td>\n",
       "      <td>2049.0</td>\n",
       "      <td>1583.0</td>\n",
       "      <td>True</td>\n",
       "      <td>True</td>\n",
       "      <td>-466.0</td>\n",
       "    </tr>\n",
       "    <tr>\n",
       "      <th>34864</th>\n",
       "      <td>2015-04-05</td>\n",
       "      <td>2015</td>\n",
       "      <td>April</td>\n",
       "      <td>37-46</td>\n",
       "      <td>1</td>\n",
       "      <td>France</td>\n",
       "      <td>Hauts de Seine</td>\n",
       "      <td>Bikes</td>\n",
       "      <td>Mountain Bikes</td>\n",
       "      <td>3</td>\n",
       "      <td>683.00</td>\n",
       "      <td>560.666667</td>\n",
       "      <td>2049.0</td>\n",
       "      <td>1682.0</td>\n",
       "      <td>True</td>\n",
       "      <td>True</td>\n",
       "      <td>-367.0</td>\n",
       "    </tr>\n",
       "    <tr>\n",
       "      <th>34865</th>\n",
       "      <td>2015-08-30</td>\n",
       "      <td>2015</td>\n",
       "      <td>August</td>\n",
       "      <td>37-46</td>\n",
       "      <td>1</td>\n",
       "      <td>France</td>\n",
       "      <td>Hauts de Seine</td>\n",
       "      <td>Bikes</td>\n",
       "      <td>Mountain Bikes</td>\n",
       "      <td>1</td>\n",
       "      <td>2320.00</td>\n",
       "      <td>1568.000000</td>\n",
       "      <td>2320.0</td>\n",
       "      <td>1568.0</td>\n",
       "      <td>True</td>\n",
       "      <td>True</td>\n",
       "      <td>-752.0</td>\n",
       "    </tr>\n",
       "  </tbody>\n",
       "</table>\n",
       "<p>34866 rows × 17 columns</p>\n",
       "</div>"
      ],
      "text/plain": [
       "            date  year     month customer_age  customer_gender        country  \\\n",
       "0     2016-02-19  2016  February        27-36                0  United States   \n",
       "1     2016-02-20  2016  February        27-36                0  United States   \n",
       "2     2016-02-27  2016  February        27-36                0  United States   \n",
       "3     2016-03-12  2016     March        27-36                0  United States   \n",
       "4     2016-03-12  2016     March        27-36                0  United States   \n",
       "...          ...   ...       ...          ...              ...            ...   \n",
       "34861 2015-03-22  2015     March        37-46                1         France   \n",
       "34862 2016-02-07  2016  February        37-46                1         France   \n",
       "34863 2015-03-13  2015     March        37-46                1         France   \n",
       "34864 2015-04-05  2015     April        37-46                1         France   \n",
       "34865 2015-08-30  2015    August        37-46                1         France   \n",
       "\n",
       "                     state product_category     sub_category  quantity  \\\n",
       "0               Washington      Accessories  Tires and Tubes         1   \n",
       "1               Washington         Clothing           Gloves         2   \n",
       "2               Washington      Accessories  Tires and Tubes         3   \n",
       "3               Washington      Accessories  Tires and Tubes         2   \n",
       "4               Washington      Accessories  Tires and Tubes         3   \n",
       "...                    ...              ...              ...       ...   \n",
       "34861  Other_French_States            Bikes   Mountain Bikes         1   \n",
       "34862       Hauts de Seine            Bikes   Mountain Bikes         2   \n",
       "34863       Hauts de Seine            Bikes   Mountain Bikes         1   \n",
       "34864       Hauts de Seine            Bikes   Mountain Bikes         3   \n",
       "34865       Hauts de Seine            Bikes   Mountain Bikes         1   \n",
       "\n",
       "       unit_cost   unit_price    cost  revenue  new_column_cost  \\\n",
       "0          80.00   109.000000    80.0    109.0             True   \n",
       "1          24.50    28.500000    49.0     57.0             True   \n",
       "2           3.67     5.000000    11.0     15.0             True   \n",
       "3          87.50   116.500000   175.0    233.0             True   \n",
       "4          35.00    41.666667   105.0    125.0             True   \n",
       "...          ...          ...     ...      ...              ...   \n",
       "34861    2049.00  1487.000000  2049.0   1487.0             True   \n",
       "34862    1160.00   985.500000  2320.0   1971.0             True   \n",
       "34863    2049.00  1583.000000  2049.0   1583.0             True   \n",
       "34864     683.00   560.666667  2049.0   1682.0             True   \n",
       "34865    2320.00  1568.000000  2320.0   1568.0             True   \n",
       "\n",
       "       new_column_revenue  profit  \n",
       "0                    True    29.0  \n",
       "1                    True     8.0  \n",
       "2                    True     4.0  \n",
       "3                    True    58.0  \n",
       "4                    True    20.0  \n",
       "...                   ...     ...  \n",
       "34861                True  -562.0  \n",
       "34862                True  -349.0  \n",
       "34863                True  -466.0  \n",
       "34864                True  -367.0  \n",
       "34865                True  -752.0  \n",
       "\n",
       "[34866 rows x 17 columns]"
      ]
     },
     "execution_count": 35,
     "metadata": {},
     "output_type": "execute_result"
    }
   ],
   "source": [
    "# To see which product category is more profitable, we create a new cloumn 'profit' by subtracting cost from revenue \n",
    "\n",
    "data['profit'] = data['revenue']- data['cost']\n",
    "\n",
    "data"
   ]
  },
  {
   "cell_type": "markdown",
   "id": "bdb68c42",
   "metadata": {},
   "source": [
    "# Check for outliers "
   ]
  },
  {
   "cell_type": "code",
   "execution_count": 36,
   "id": "3a8024f6",
   "metadata": {},
   "outputs": [],
   "source": [
    "numerical = data.select_dtypes(np.number)\n",
    "categorical = data.select_dtypes(object)"
   ]
  },
  {
   "cell_type": "code",
   "execution_count": 37,
   "id": "af0379d7",
   "metadata": {},
   "outputs": [
    {
     "data": {
      "image/png": "[encoded data removed]",
      "text/plain": [
       "<Figure size 432x288 with 1 Axes>"
      ]
     },
     "metadata": {
      "needs_background": "light"
     },
     "output_type": "display_data"
    },
    {
     "data": {
      "image/png": "[encoded data removed]",
      "text/plain": [
       "<Figure size 432x288 with 1 Axes>"
      ]
     },
     "metadata": {
      "needs_background": "light"
     },
     "output_type": "display_data"
    },
    {
     "data": {
      "image/png": "[encoded data removed]",
      "text/plain": [
       "<Figure size 432x288 with 1 Axes>"
      ]
     },
     "metadata": {
      "needs_background": "light"
     },
     "output_type": "display_data"
    },
    {
     "data": {
      "image/png": "[encoded data removed]",
      "text/plain": [
       "<Figure size 432x288 with 1 Axes>"
      ]
     },
     "metadata": {
      "needs_background": "light"
     },
     "output_type": "display_data"
    },
    {
     "data": {
      "image/png": "[encoded data removed]",
      "text/plain": [
       "<Figure size 432x288 with 1 Axes>"
      ]
     },
     "metadata": {
      "needs_background": "light"
     },
     "output_type": "display_data"
    },
    {
     "data": {
      "image/png": "[encoded data removed]",
      "text/plain": [
       "<Figure size 432x288 with 1 Axes>"
      ]
     },
     "metadata": {
      "needs_background": "light"
     },
     "output_type": "display_data"
    },
    {
     "data": {
      "image/png": "[encoded data removed]",
      "text/plain": [
       "<Figure size 432x288 with 1 Axes>"
      ]
     },
     "metadata": {
      "needs_background": "light"
     },
     "output_type": "display_data"
    },
    {
     "data": {
      "image/png": "[encoded data removed]",
      "text/plain": [
       "<Figure size 432x288 with 1 Axes>"
      ]
     },
     "metadata": {
      "needs_background": "light"
     },
     "output_type": "display_data"
    }
   ],
   "source": [
    "for i in numerical.columns:\n",
    "    sns.boxplot(x = i, data = numerical)\n",
    "    plt.show()"
   ]
  },
  {
   "cell_type": "code",
   "execution_count": 38,
   "id": "39f34a41",
   "metadata": {},
   "outputs": [],
   "source": [
    "# It can be seen from the boxplots that unit_cost, unit_price,cost, revenue and profit consist of some outliers."
   ]
  },
  {
   "cell_type": "code",
   "execution_count": 39,
   "id": "f1ecedd2",
   "metadata": {},
   "outputs": [
    {
     "name": "stderr",
     "output_type": "stream",
     "text": [
      "/var/folders/nb/lfzlcsrj38n5g0jr2ql_tmgc0000gn/T/ipykernel_10536/3105449951.py:6: UserWarning: Boolean Series key will be reindexed to match DataFrame index.\n",
      "  df = df[data['unit_price'] < 3000]\n",
      "/var/folders/nb/lfzlcsrj38n5g0jr2ql_tmgc0000gn/T/ipykernel_10536/3105449951.py:7: UserWarning: Boolean Series key will be reindexed to match DataFrame index.\n",
      "  df = df[data['cost'] < 2300]\n",
      "/var/folders/nb/lfzlcsrj38n5g0jr2ql_tmgc0000gn/T/ipykernel_10536/3105449951.py:8: UserWarning: Boolean Series key will be reindexed to match DataFrame index.\n",
      "  df = df[data['revenue'] < 3400]\n"
     ]
    },
    {
     "data": {
      "text/plain": [
       "(32129, 17)"
      ]
     },
     "execution_count": 39,
     "metadata": {},
     "output_type": "execute_result"
    }
   ],
   "source": [
    "# Removing the oultiers\n",
    "\n",
    "df = data.copy()\n",
    "\n",
    "df = df[data['unit_cost'] < 1500]\n",
    "df = df[data['unit_price'] < 3000]\n",
    "df = df[data['cost'] < 2300]\n",
    "df = df[data['revenue'] < 3400]\n",
    "\n",
    "df.shape"
   ]
  },
  {
   "cell_type": "markdown",
   "id": "4e91aa1e",
   "metadata": {},
   "source": [
    "# Perform Explanatory Data Analysis (EDA) graphically"
   ]
  },
  {
   "cell_type": "code",
   "execution_count": 41,
   "id": "6b5177cb",
   "metadata": {},
   "outputs": [
    {
     "data": {
      "image/png": "[encoded data removed]",
      "text/plain": [
       "<Figure size 432x288 with 1 Axes>"
      ]
     },
     "metadata": {
      "needs_background": "light"
     },
     "output_type": "display_data"
    }
   ],
   "source": [
    "sns.barplot(x= 'customer_age', y= 'revenue',data=df)\n",
    "plt.xticks(rotation=45)\n",
    "plt.show()"
   ]
  },
  {
   "cell_type": "code",
   "execution_count": 94,
   "id": "ca3d554e",
   "metadata": {},
   "outputs": [
    {
     "data": {
      "image/png": "[encoded data removed]",
      "text/plain": [
       "<Figure size 432x288 with 1 Axes>"
      ]
     },
     "metadata": {
      "needs_background": "light"
     },
     "output_type": "display_data"
    }
   ],
   "source": [
    "sns.barplot(x= 'customer_age', y= 'profit',data=df)\n",
    "plt.xticks(rotation=45)\n",
    "plt.show()"
   ]
  },
  {
   "cell_type": "code",
   "execution_count": 45,
   "id": "b14b3339",
   "metadata": {},
   "outputs": [
    {
     "data": {
      "image/png": "[encoded data removed]",
      "text/plain": [
       "<Figure size 432x288 with 1 Axes>"
      ]
     },
     "metadata": {
      "needs_background": "light"
     },
     "output_type": "display_data"
    }
   ],
   "source": [
    "sns.barplot(x= 'customer_gender', y= 'profit',data=df)\n",
    "plt.show()"
   ]
  },
  {
   "cell_type": "code",
   "execution_count": 46,
   "id": "79c77c28",
   "metadata": {},
   "outputs": [
    {
     "data": {
      "image/png": "[encoded data removed]",
      "text/plain": [
       "<Figure size 432x288 with 1 Axes>"
      ]
     },
     "metadata": {
      "needs_background": "light"
     },
     "output_type": "display_data"
    }
   ],
   "source": [
    "sns.barplot(x= 'year', y= 'revenue',data=df)\n",
    "plt.show()"
   ]
  },
  {
   "cell_type": "code",
   "execution_count": 47,
   "id": "1352b657",
   "metadata": {},
   "outputs": [
    {
     "data": {
      "image/png": "[encoded data removed]",
      "text/plain": [
       "<Figure size 432x288 with 1 Axes>"
      ]
     },
     "metadata": {
      "needs_background": "light"
     },
     "output_type": "display_data"
    }
   ],
   "source": [
    "sns.barplot(x= 'year', y= 'profit',data=df)\n",
    "plt.show()"
   ]
  },
  {
   "cell_type": "code",
   "execution_count": 48,
   "id": "05cba0e0",
   "metadata": {},
   "outputs": [
    {
     "data": {
      "image/png": "[encoded data removed]",
      "text/plain": [
       "<Figure size 432x288 with 1 Axes>"
      ]
     },
     "metadata": {
      "needs_background": "light"
     },
     "output_type": "display_data"
    }
   ],
   "source": [
    "sns.barplot(x= 'product_category', y= 'profit',data=df)\n",
    "plt.show()"
   ]
  },
  {
   "cell_type": "code",
   "execution_count": 49,
   "id": "a15a9cdc",
   "metadata": {},
   "outputs": [
    {
     "data": {
      "image/png": "[encoded data removed]",
      "text/plain": [
       "<Figure size 432x288 with 1 Axes>"
      ]
     },
     "metadata": {
      "needs_background": "light"
     },
     "output_type": "display_data"
    }
   ],
   "source": [
    "sns.barplot(x= 'sub_category', y= 'profit',data=df)\n",
    "plt.xticks(rotation=90)\n",
    "plt.show()"
   ]
  },
  {
   "cell_type": "code",
   "execution_count": 50,
   "id": "1e99d929",
   "metadata": {},
   "outputs": [
    {
     "data": {
      "image/png": "[encoded data removed]",
      "text/plain": [
       "<Figure size 432x288 with 1 Axes>"
      ]
     },
     "metadata": {
      "needs_background": "light"
     },
     "output_type": "display_data"
    }
   ],
   "source": [
    "sns.barplot(x='country', y= 'revenue',data=df)\n",
    "plt.show()"
   ]
  },
  {
   "cell_type": "code",
   "execution_count": 51,
   "id": "7ebfac17",
   "metadata": {},
   "outputs": [
    {
     "data": {
      "image/png": "[encoded data removed]",
      "text/plain": [
       "<Figure size 432x288 with 1 Axes>"
      ]
     },
     "metadata": {
      "needs_background": "light"
     },
     "output_type": "display_data"
    }
   ],
   "source": [
    "sns.barplot(x= 'country', y= 'profit',data=df)\n",
    "plt.show()"
   ]
  },
  {
   "cell_type": "code",
   "execution_count": 52,
   "id": "e003c4c2",
   "metadata": {},
   "outputs": [
    {
     "data": {
      "image/png": "[encoded data removed]",
      "text/plain": [
       "<Figure size 432x288 with 1 Axes>"
      ]
     },
     "metadata": {
      "needs_background": "light"
     },
     "output_type": "display_data"
    }
   ],
   "source": [
    "sns.barplot(x= 'state', y= 'revenue',data=df)\n",
    "plt.xticks(rotation=90)\n",
    "plt.show()"
   ]
  },
  {
   "cell_type": "code",
   "execution_count": 53,
   "id": "f7649c85",
   "metadata": {},
   "outputs": [
    {
     "data": {
      "image/png": "[encoded data removed]",
      "text/plain": [
       "<Figure size 432x288 with 1 Axes>"
      ]
     },
     "metadata": {
      "needs_background": "light"
     },
     "output_type": "display_data"
    }
   ],
   "source": [
    "sns.barplot(x= 'state', y= 'profit',data=df)\n",
    "plt.xticks(rotation=90)\n",
    "plt.show()"
   ]
  },
  {
   "cell_type": "markdown",
   "id": "0a0fb929",
   "metadata": {},
   "source": [
    "# Connect the data to SQL"
   ]
  },
  {
   "cell_type": "code",
   "execution_count": 54,
   "id": "515a6da0",
   "metadata": {},
   "outputs": [
    {
     "name": "stdout",
     "output_type": "stream",
     "text": [
      "········\n"
     ]
    }
   ],
   "source": [
    "import pymysql\n",
    "from sqlalchemy import create_engine\n",
    "from sqlalchemy import MetaData\n",
    "import getpass\n",
    "password = getpass.getpass()\n",
    "from sqlalchemy_utils import database_exists, create_database\n",
    "import pandas as pd"
   ]
  },
  {
   "cell_type": "code",
   "execution_count": 55,
   "id": "3559a37a",
   "metadata": {},
   "outputs": [
    {
     "data": {
      "text/plain": [
       "32129"
      ]
     },
     "execution_count": 55,
     "metadata": {},
     "output_type": "execute_result"
    }
   ],
   "source": [
    "\n",
    "# create connection to SQL; create a new database\n",
    "\n",
    "connection_string ='mysql+pymysql://root:'+ password + '@localhost/mid_project'\n",
    "engine = create_engine (connection_string)\n",
    "if not database_exists(engine.url):\n",
    "    create_database(engine.url)\n",
    "\n",
    "# metadata is like temporary memory in python to collect data (or dataframes) that we want to put in the SQL database\n",
    "\n",
    "metadata_obj = MetaData()\n",
    "\n",
    "# create tables from existing pandas df\n",
    "\n",
    "df.to_sql(\"customer_spendings_analysis\", engine, if_exists = \"replace\")"
   ]
  },
  {
   "cell_type": "markdown",
   "id": "f22373c2",
   "metadata": {},
   "source": [
    "# Hypothesis testing "
   ]
  },
  {
   "cell_type": "code",
   "execution_count": 56,
   "id": "51e24b83",
   "metadata": {},
   "outputs": [
    {
     "data": {
      "text/plain": [
       "493.5989604407233"
      ]
     },
     "execution_count": 56,
     "metadata": {},
     "output_type": "execute_result"
    }
   ],
   "source": [
    "# Checking fisrt the revenue \n",
    "\n",
    "df['revenue'].mean()"
   ]
  },
  {
   "cell_type": "code",
   "execution_count": 57,
   "id": "b29d561a",
   "metadata": {},
   "outputs": [],
   "source": [
    "revenue_by_county = df[df['country']=='United States']\n",
    "US_revenue = revenue_by_county['revenue']"
   ]
  },
  {
   "cell_type": "code",
   "execution_count": 58,
   "id": "03519ad3",
   "metadata": {},
   "outputs": [
    {
     "data": {
      "text/plain": [
       "0        109.0\n",
       "1         57.0\n",
       "2         15.0\n",
       "3        233.0\n",
       "4        125.0\n",
       "         ...  \n",
       "34717     52.0\n",
       "34718    227.0\n",
       "34721    529.0\n",
       "34722    131.0\n",
       "34723    662.0\n",
       "Name: revenue, Length: 16897, dtype: float64"
      ]
     },
     "execution_count": 58,
     "metadata": {},
     "output_type": "execute_result"
    }
   ],
   "source": [
    "US_revenue"
   ]
  },
  {
   "cell_type": "markdown",
   "id": "f2ca9ab4",
   "metadata": {},
   "source": [
    "#H0: U.S has an average revenue = average total revenue \n",
    "#H1: U.S has an average revenue != average total revenue"
   ]
  },
  {
   "cell_type": "code",
   "execution_count": 59,
   "id": "c14cf8b6",
   "metadata": {},
   "outputs": [],
   "source": [
    "import scipy.stats as st\n",
    "from scipy.stats import ttest_1samp"
   ]
  },
  {
   "cell_type": "code",
   "execution_count": 60,
   "id": "caa0d143",
   "metadata": {},
   "outputs": [
    {
     "name": "stdout",
     "output_type": "stream",
     "text": [
      "Stat_Score =   -9.06980664794137\n",
      "Pvalue =   1.320602756623052e-19\n"
     ]
    }
   ],
   "source": [
    "stat,pvalue = ttest_1samp(US_revenue,493.59)\n",
    "\n",
    "print('Stat_Score =  ',stat)\n",
    "print('Pvalue =  ',pvalue)"
   ]
  },
  {
   "cell_type": "code",
   "execution_count": 61,
   "id": "284cf92c",
   "metadata": {},
   "outputs": [
    {
     "data": {
      "text/plain": [
       "458.02254838136946"
      ]
     },
     "execution_count": 61,
     "metadata": {},
     "output_type": "execute_result"
    }
   ],
   "source": [
    "US_revenue.mean()"
   ]
  },
  {
   "cell_type": "code",
   "execution_count": 62,
   "id": "0c5e0a61",
   "metadata": {},
   "outputs": [],
   "source": [
    "# It's a very small p_value compared to 0.05 therefore, we can reject the null hypothesis \n",
    "# U.S has an average revenue that is significantly different than the average total revenue "
   ]
  },
  {
   "cell_type": "code",
   "execution_count": 63,
   "id": "0b7d30f1",
   "metadata": {},
   "outputs": [],
   "source": [
    "revenue_by_county2 = df[df['country']=='France']\n",
    "France_revenue = revenue_by_county2['revenue']"
   ]
  },
  {
   "cell_type": "code",
   "execution_count": 64,
   "id": "a2fcfbd6",
   "metadata": {},
   "outputs": [
    {
     "data": {
      "text/plain": [
       "295       629.0\n",
       "296        52.0\n",
       "297        20.0\n",
       "298       965.0\n",
       "299       155.0\n",
       "          ...  \n",
       "34848      82.0\n",
       "34849    1662.0\n",
       "34850     584.0\n",
       "34851      24.0\n",
       "34864    1682.0\n",
       "Name: revenue, Length: 4707, dtype: float64"
      ]
     },
     "execution_count": 64,
     "metadata": {},
     "output_type": "execute_result"
    }
   ],
   "source": [
    "France_revenue"
   ]
  },
  {
   "cell_type": "markdown",
   "id": "aa16ee00",
   "metadata": {},
   "source": [
    "#H0: France has an average revenue = average total revenue \n",
    "#H1: France has an average revenue != average total revenue"
   ]
  },
  {
   "cell_type": "code",
   "execution_count": 65,
   "id": "a2195457",
   "metadata": {},
   "outputs": [
    {
     "name": "stdout",
     "output_type": "stream",
     "text": [
      "Stat_Score =   1.525363692880955\n",
      "Pvalue =   0.12723560769704204\n"
     ]
    }
   ],
   "source": [
    "stat,pvalue = ttest_1samp(France_revenue,493.59)\n",
    "\n",
    "print('Stat_Score =  ',stat)\n",
    "print('Pvalue =  ',pvalue)"
   ]
  },
  {
   "cell_type": "code",
   "execution_count": 66,
   "id": "eaffd260",
   "metadata": {},
   "outputs": [
    {
     "data": {
      "text/plain": [
       "506.0469513490546"
      ]
     },
     "execution_count": 66,
     "metadata": {},
     "output_type": "execute_result"
    }
   ],
   "source": [
    "France_revenue.mean()"
   ]
  },
  {
   "cell_type": "code",
   "execution_count": 67,
   "id": "7bf3ff36",
   "metadata": {},
   "outputs": [],
   "source": [
    "# The p_value is higher than 0.05 therefore we cannot reject the null hypothesis  \n",
    "# France has an average revenue that is significantly close to the average total revenue"
   ]
  },
  {
   "cell_type": "code",
   "execution_count": 68,
   "id": "04293deb",
   "metadata": {},
   "outputs": [],
   "source": [
    "revenue_by_county3 = df[df['country']=='Germany']\n",
    "Germany_revenue = revenue_by_county3['revenue']"
   ]
  },
  {
   "cell_type": "code",
   "execution_count": 69,
   "id": "e7ff74ae",
   "metadata": {},
   "outputs": [
    {
     "data": {
      "text/plain": [
       "376      1066.0\n",
       "377        56.0\n",
       "379      1178.0\n",
       "380       113.0\n",
       "382        76.0\n",
       "          ...  \n",
       "34830    1232.0\n",
       "34831     117.0\n",
       "34832      27.0\n",
       "34840     965.0\n",
       "34860    1072.0\n",
       "Name: revenue, Length: 4686, dtype: float64"
      ]
     },
     "execution_count": 69,
     "metadata": {},
     "output_type": "execute_result"
    }
   ],
   "source": [
    "Germany_revenue"
   ]
  },
  {
   "cell_type": "markdown",
   "id": "8271a57d",
   "metadata": {},
   "source": [
    "#H0: Germany has an average revenue = average total revenue \n",
    "#H1: Germany has an average revenue != average total revenue"
   ]
  },
  {
   "cell_type": "code",
   "execution_count": 70,
   "id": "d8d17aa6",
   "metadata": {},
   "outputs": [
    {
     "name": "stdout",
     "output_type": "stream",
     "text": [
      "Stat_Score =   11.537177314828213\n",
      "Pvalue =   2.1977444531432517e-30\n"
     ]
    }
   ],
   "source": [
    "stat,pvalue = ttest_1samp(Germany_revenue,493.59)\n",
    "\n",
    "print('Stat_Score =  ',stat)\n",
    "print('Pvalue =  ',pvalue)"
   ]
  },
  {
   "cell_type": "code",
   "execution_count": 71,
   "id": "7116c75e",
   "metadata": {},
   "outputs": [
    {
     "data": {
      "text/plain": [
       "601.5582586427657"
      ]
     },
     "execution_count": 71,
     "metadata": {},
     "output_type": "execute_result"
    }
   ],
   "source": [
    "Germany_revenue.mean()"
   ]
  },
  {
   "cell_type": "code",
   "execution_count": 72,
   "id": "4a0e8a40",
   "metadata": {},
   "outputs": [],
   "source": [
    "# It's a very small p_value compared to 0.05 therefore, we can reject the null hypothesis \n",
    "# Germany has an average revenue that is significantly different from the average total revenue "
   ]
  },
  {
   "cell_type": "code",
   "execution_count": 73,
   "id": "770ed80f",
   "metadata": {},
   "outputs": [],
   "source": [
    "revenue_by_county4 = df[df['country']=='United Kingdom']\n",
    "UK_revenue = revenue_by_county4['revenue']"
   ]
  },
  {
   "cell_type": "code",
   "execution_count": 74,
   "id": "b2434b8f",
   "metadata": {},
   "outputs": [
    {
     "data": {
      "text/plain": [
       "336       567.0\n",
       "337       283.0\n",
       "340      1023.0\n",
       "342       181.0\n",
       "344      1370.0\n",
       "          ...  \n",
       "34852     300.0\n",
       "34853      38.0\n",
       "34854      94.0\n",
       "34857     814.0\n",
       "34858     798.0\n",
       "Name: revenue, Length: 5839, dtype: float64"
      ]
     },
     "execution_count": 74,
     "metadata": {},
     "output_type": "execute_result"
    }
   ],
   "source": [
    "UK_revenue"
   ]
  },
  {
   "cell_type": "markdown",
   "id": "540bed08",
   "metadata": {},
   "source": [
    "#H0: UK has an average revenue = average total revenue \n",
    "#H1: UK has an average revenue != average total revenue"
   ]
  },
  {
   "cell_type": "code",
   "execution_count": 75,
   "id": "bd7e031b",
   "metadata": {},
   "outputs": [
    {
     "name": "stdout",
     "output_type": "stream",
     "text": [
      "Stat_Score =   0.8863421762462972\n",
      "Pvalue =   0.37546967667684883\n"
     ]
    }
   ],
   "source": [
    "stat,pvalue = ttest_1samp(UK_revenue,493.59)\n",
    "\n",
    "print('Stat_Score =  ',stat)\n",
    "print('Pvalue =  ',pvalue)"
   ]
  },
  {
   "cell_type": "code",
   "execution_count": 76,
   "id": "0dae6fd7",
   "metadata": {},
   "outputs": [
    {
     "data": {
      "text/plain": [
       "499.87480733002224"
      ]
     },
     "execution_count": 76,
     "metadata": {},
     "output_type": "execute_result"
    }
   ],
   "source": [
    "UK_revenue.mean()"
   ]
  },
  {
   "cell_type": "code",
   "execution_count": 77,
   "id": "20b7ea73",
   "metadata": {},
   "outputs": [],
   "source": [
    "# The p_value is higher than 0.05 therefore we cannot reject the null hypothesis\n",
    "# UK has an average revenue that is significantly close to the average total revenue "
   ]
  },
  {
   "cell_type": "markdown",
   "id": "73805b4a",
   "metadata": {},
   "source": [
    "# Test Profit"
   ]
  },
  {
   "cell_type": "markdown",
   "id": "2a408430",
   "metadata": {},
   "source": [
    "#H0: Mean Profit for each country = Mean total profit\n",
    "#H1: There will be at least one population mean that differs from the rest"
   ]
  },
  {
   "cell_type": "code",
   "execution_count": 78,
   "id": "69f2634b",
   "metadata": {},
   "outputs": [],
   "source": [
    "profit_by_county = df[df['country']=='United States']\n",
    "US_profit = profit_by_county['profit']"
   ]
  },
  {
   "cell_type": "code",
   "execution_count": 79,
   "id": "02018777",
   "metadata": {},
   "outputs": [],
   "source": [
    "profit_by_county2 = df[df['country']=='Germany']\n",
    "Germany_profit = profit_by_county2['profit']"
   ]
  },
  {
   "cell_type": "code",
   "execution_count": 80,
   "id": "3a0b8bf9",
   "metadata": {},
   "outputs": [],
   "source": [
    "profit_by_county3 = df[df['country']=='France']\n",
    "France_profit = profit_by_county3['profit']"
   ]
  },
  {
   "cell_type": "code",
   "execution_count": 81,
   "id": "453200a4",
   "metadata": {},
   "outputs": [],
   "source": [
    "profit_by_county4 = df[df['country']=='United Kingdom']\n",
    "UK_profit = profit_by_county4['profit']"
   ]
  },
  {
   "cell_type": "code",
   "execution_count": 82,
   "id": "f20419fa",
   "metadata": {},
   "outputs": [
    {
     "data": {
      "text/plain": [
       "0         29.0\n",
       "1          8.0\n",
       "2          4.0\n",
       "3         58.0\n",
       "4         20.0\n",
       "         ...  \n",
       "34717      8.0\n",
       "34718     -1.0\n",
       "34721     79.0\n",
       "34722     11.0\n",
       "34723    112.0\n",
       "Name: profit, Length: 16897, dtype: float64"
      ]
     },
     "execution_count": 82,
     "metadata": {},
     "output_type": "execute_result"
    }
   ],
   "source": [
    "US_profit"
   ]
  },
  {
   "cell_type": "code",
   "execution_count": 83,
   "id": "7d0ca0a2",
   "metadata": {},
   "outputs": [
    {
     "data": {
      "text/plain": [
       "376      406.0\n",
       "377       19.0\n",
       "379      424.0\n",
       "380       38.0\n",
       "382       22.0\n",
       "         ...  \n",
       "34830    391.0\n",
       "34831     32.0\n",
       "34832      9.0\n",
       "34840    196.0\n",
       "34860    303.0\n",
       "Name: profit, Length: 4686, dtype: float64"
      ]
     },
     "execution_count": 83,
     "metadata": {},
     "output_type": "execute_result"
    }
   ],
   "source": [
    "Germany_profit"
   ]
  },
  {
   "cell_type": "code",
   "execution_count": 84,
   "id": "18dfe14e",
   "metadata": {},
   "outputs": [
    {
     "data": {
      "text/plain": [
       "295      136.0\n",
       "296       12.0\n",
       "297        2.0\n",
       "298       11.0\n",
       "299        2.0\n",
       "         ...  \n",
       "34848     14.0\n",
       "34849    138.0\n",
       "34850    160.0\n",
       "34851      4.0\n",
       "34864   -367.0\n",
       "Name: profit, Length: 4707, dtype: float64"
      ]
     },
     "execution_count": 84,
     "metadata": {},
     "output_type": "execute_result"
    }
   ],
   "source": [
    "France_profit"
   ]
  },
  {
   "cell_type": "code",
   "execution_count": 85,
   "id": "eef0a482",
   "metadata": {},
   "outputs": [
    {
     "data": {
      "text/plain": [
       "336       27.0\n",
       "337       38.0\n",
       "340      253.0\n",
       "342       41.0\n",
       "344      320.0\n",
       "         ...  \n",
       "34852     75.0\n",
       "34853     11.0\n",
       "34854      4.0\n",
       "34857     72.0\n",
       "34858     56.0\n",
       "Name: profit, Length: 5839, dtype: float64"
      ]
     },
     "execution_count": 85,
     "metadata": {},
     "output_type": "execute_result"
    }
   ],
   "source": [
    "UK_profit"
   ]
  },
  {
   "cell_type": "code",
   "execution_count": 86,
   "id": "6b788d56",
   "metadata": {},
   "outputs": [
    {
     "data": {
      "text/plain": [
       "F_onewayResult(statistic=1098.672180296722, pvalue=0.0)"
      ]
     },
     "execution_count": 86,
     "metadata": {},
     "output_type": "execute_result"
    }
   ],
   "source": [
    "from scipy.stats import f_oneway\n",
    "\n",
    "f_oneway(US_profit, Germany_profit, France_profit, UK_profit)"
   ]
  },
  {
   "cell_type": "code",
   "execution_count": 87,
   "id": "739f4198",
   "metadata": {},
   "outputs": [
    {
     "data": {
      "text/plain": [
       "62.32198325500327"
      ]
     },
     "execution_count": 87,
     "metadata": {},
     "output_type": "execute_result"
    }
   ],
   "source": [
    "df['profit'].mean()"
   ]
  },
  {
   "cell_type": "code",
   "execution_count": 88,
   "id": "f0996389",
   "metadata": {},
   "outputs": [
    {
     "data": {
      "text/plain": [
       "42.50150914363496"
      ]
     },
     "execution_count": 88,
     "metadata": {},
     "output_type": "execute_result"
    }
   ],
   "source": [
    "US_profit.mean()"
   ]
  },
  {
   "cell_type": "code",
   "execution_count": 89,
   "id": "848da84d",
   "metadata": {},
   "outputs": [
    {
     "data": {
      "text/plain": [
       "151.88689714041826"
      ]
     },
     "execution_count": 89,
     "metadata": {},
     "output_type": "execute_result"
    }
   ],
   "source": [
    "Germany_profit.mean()"
   ]
  },
  {
   "cell_type": "code",
   "execution_count": 90,
   "id": "8db59234",
   "metadata": {},
   "outputs": [
    {
     "data": {
      "text/plain": [
       "54.65646908859146"
      ]
     },
     "execution_count": 90,
     "metadata": {},
     "output_type": "execute_result"
    }
   ],
   "source": [
    "France_profit.mean()"
   ]
  },
  {
   "cell_type": "code",
   "execution_count": 91,
   "id": "14397d90",
   "metadata": {},
   "outputs": [
    {
     "data": {
      "text/plain": [
       "53.97927727350574"
      ]
     },
     "execution_count": 91,
     "metadata": {},
     "output_type": "execute_result"
    }
   ],
   "source": [
    "UK_profit.mean()"
   ]
  },
  {
   "cell_type": "code",
   "execution_count": 92,
   "id": "a84b8662",
   "metadata": {},
   "outputs": [],
   "source": [
    "# The P_value is smaller than 0.05, so we can reject the null hypothesis that \n",
    "# all countries have the same average profit which equal to the average total profit. "
   ]
  },
  {
   "cell_type": "code",
   "execution_count": 93,
   "id": "c4bb3a17",
   "metadata": {},
   "outputs": [],
   "source": [
    "df.to_csv('customer_spendings_analysis.csv', index=False)"
   ]
  }
 ],
 "metadata": {
  "kernelspec": {
   "display_name": "Python 3 (ipykernel)",
   "language": "python",
   "name": "python3"
  },
  "language_info": {
   "codemirror_mode": {
    "name": "ipython",
    "version": 3
   },
   "file_extension": ".py",
   "mimetype": "text/x-python",
   "name": "python",
   "nbconvert_exporter": "python",
   "pygments_lexer": "ipython3",
   "version": "3.9.13"
  }
 },
 "nbformat": 4,
 "nbformat_minor": 5
}
